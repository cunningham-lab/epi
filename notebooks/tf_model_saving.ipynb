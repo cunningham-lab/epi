{
 "cells": [
  {
   "cell_type": "code",
   "execution_count": 1,
   "metadata": {
    "collapsed": true
   },
   "outputs": [],
   "source": [
    "from __future__ import absolute_import, division, print_function, unicode_literals\n",
    "import tensorflow as tf"
   ]
  },
  {
   "cell_type": "code",
   "execution_count": 2,
   "metadata": {
    "collapsed": true
   },
   "outputs": [],
   "source": [
    "class Net(tf.keras.Model):\n",
    "    \"\"\"A simple linear model.\"\"\"\n",
    "    def __init__(self):\n",
    "        super(Net, self).__init__()\n",
    "        self.l1 = tf.keras.layers.Dense(5)\n",
    "        \n",
    "    def call(self, x):\n",
    "        return self.l1(x)"
   ]
  },
  {
   "cell_type": "code",
   "execution_count": 3,
   "metadata": {},
   "outputs": [
    {
     "name": "stdout",
     "output_type": "stream",
     "text": [
      "<__main__.Net object at 0x10b7fd4a8>\n"
     ]
    }
   ],
   "source": [
    "net = Net()\n",
    "print(net)"
   ]
  },
  {
   "cell_type": "code",
   "execution_count": 4,
   "metadata": {},
   "outputs": [],
   "source": [
    "net.save_weights('easy_checkpoint')"
   ]
  },
  {
   "cell_type": "code",
   "execution_count": 5,
   "metadata": {},
   "outputs": [
    {
     "name": "stdout",
     "output_type": "stream",
     "text": [
      "inputs tf.Tensor(\n",
      "[[0.]\n",
      " [1.]\n",
      " [2.]\n",
      " [3.]\n",
      " [4.]\n",
      " [5.]\n",
      " [6.]\n",
      " [7.]\n",
      " [8.]\n",
      " [9.]], shape=(10, 1), dtype=float32)\n",
      "labels tf.Tensor(\n",
      "[[ 0.  1.  2.  3.  4.]\n",
      " [ 5.  6.  7.  8.  9.]\n",
      " [10. 11. 12. 13. 14.]\n",
      " [15. 16. 17. 18. 19.]\n",
      " [20. 21. 22. 23. 24.]\n",
      " [25. 26. 27. 28. 29.]\n",
      " [30. 31. 32. 33. 34.]\n",
      " [35. 36. 37. 38. 39.]\n",
      " [40. 41. 42. 43. 44.]\n",
      " [45. 46. 47. 48. 49.]], shape=(10, 5), dtype=float32)\n"
     ]
    }
   ],
   "source": [
    "inputs = tf.range(10.)[:, None]\n",
    "labels = inputs * 5. + tf.range(5.)[None,:]\n",
    "\n",
    "print('inputs', inputs)\n",
    "print('labels', labels)"
   ]
  },
  {
   "cell_type": "code",
   "execution_count": 6,
   "metadata": {
    "collapsed": true
   },
   "outputs": [],
   "source": [
    "def toy_dataset():\n",
    "    inputs = tf.range(10.)[:, None]\n",
    "    labels = inputs * 5. + tf.range(5.)[None,:]\n",
    "    return tf.data.Dataset.from_tensor_slices(\n",
    "        dict(x=inputs, y=labels)).repeat(10).batch(2)"
   ]
  },
  {
   "cell_type": "code",
   "execution_count": 7,
   "metadata": {
    "collapsed": true
   },
   "outputs": [],
   "source": [
    "def train_step(net, example, optimizer):\n",
    "    \"\"\"Trains `net` on `example` using `optimizer`.\"\"\"\n",
    "    with tf.GradientTape() as tape:\n",
    "        output = net(example['x'])\n",
    "        loss = tf.reduce_mean(tf.abs(output-example['y']))\n",
    "    variables = net.trainable_variables\n",
    "    gradients = tape.gradient(loss, variables)\n",
    "    optimizer.apply_gradients(zip(gradients, variables))\n",
    "    return loss\n",
    "        "
   ]
  },
  {
   "cell_type": "code",
   "execution_count": 13,
   "metadata": {
    "collapsed": true
   },
   "outputs": [],
   "source": [
    "opt = tf.keras.optimizers.Adam(0.1)\n",
    "ckpt = tf.train.Checkpoint(step=tf.Variable(1), optimizer=opt, net=net)\n",
    "manager = tf.train.CheckpointManager(ckpt, './tf_ckpts', max_to_keep=3)"
   ]
  },
  {
   "cell_type": "code",
   "execution_count": 14,
   "metadata": {},
   "outputs": [],
   "source": [
    "def train_and_checkpoint(net, manager):\n",
    "    ckpt.restore(manager.latest_checkpoint)\n",
    "    if (manager.latest_checkpoint):\n",
    "        print(\"Restored from {}\".format(manager.latest_checkpoint))\n",
    "    else:\n",
    "        print(\"Initializing from scratch.\")\n",
    "    \n",
    "    for example in toy_dataset():\n",
    "        loss = train_step(net, example, opt)\n",
    "        ckpt.step.assign_add(1)\n",
    "        if int(ckpt.step) % 10 == 0:\n",
    "            save_path = manager.save()\n",
    "            print(\"Saved checkpoint for step {}: {}\".format(int(ckpt.step), save_path))\n",
    "        print(\"loss {:1.2f}\".format(loss.numpy()))"
   ]
  },
  {
   "cell_type": "code",
   "execution_count": 15,
   "metadata": {},
   "outputs": [
    {
     "name": "stdout",
     "output_type": "stream",
     "text": [
      "Initializing from scratch.\n",
      "loss 0.04\n",
      "loss 0.30\n",
      "loss 0.23\n",
      "loss 0.18\n",
      "loss 0.15\n",
      "loss 0.06\n",
      "loss 0.16\n",
      "loss 0.33\n",
      "Saved checkpoint for step 10: ./tf_ckpts/ckpt-1\n",
      "loss 0.42\n",
      "loss 0.36\n",
      "loss 0.08\n",
      "loss 0.16\n",
      "loss 0.29\n",
      "loss 0.42\n",
      "loss 0.46\n",
      "loss 0.08\n",
      "loss 0.09\n",
      "loss 0.12\n",
      "Saved checkpoint for step 20: ./tf_ckpts/ckpt-2\n",
      "loss 0.24\n",
      "loss 0.26\n",
      "loss 0.04\n",
      "loss 0.08\n",
      "loss 0.18\n",
      "loss 0.28\n",
      "loss 0.26\n",
      "loss 0.08\n",
      "loss 0.14\n",
      "loss 0.24\n",
      "Saved checkpoint for step 30: ./tf_ckpts/ckpt-3\n",
      "loss 0.35\n",
      "loss 0.41\n",
      "loss 0.04\n",
      "loss 0.06\n",
      "loss 0.13\n",
      "loss 0.21\n",
      "loss 0.25\n",
      "loss 0.05\n",
      "loss 0.08\n",
      "loss 0.15\n",
      "Saved checkpoint for step 40: ./tf_ckpts/ckpt-4\n",
      "loss 0.23\n",
      "loss 0.20\n",
      "loss 0.03\n",
      "loss 0.10\n",
      "loss 0.21\n",
      "loss 0.31\n",
      "loss 0.31\n",
      "loss 0.04\n",
      "loss 0.10\n",
      "loss 0.20\n",
      "Saved checkpoint for step 50: ./tf_ckpts/ckpt-5\n",
      "loss 0.28\n",
      "loss 0.32\n"
     ]
    }
   ],
   "source": [
    "train_and_checkpoint(net, manager)"
   ]
  },
  {
   "cell_type": "code",
   "execution_count": 16,
   "metadata": {
    "collapsed": true
   },
   "outputs": [],
   "source": [
    "opt = tf.keras.optimizers.Adam(0.1)\n",
    "net = Net()\n",
    "ckpt = tf.train.Checkpoint(step=tf.Variable(1), optimizer=opt, net=net)\n",
    "manager = tf.train.CheckpointManager(ckpt, './tf_ckpts', max_to_keep=3)"
   ]
  },
  {
   "cell_type": "code",
   "execution_count": 17,
   "metadata": {},
   "outputs": [
    {
     "name": "stdout",
     "output_type": "stream",
     "text": [
      "Restored from ./tf_ckpts/ckpt-5\n",
      "loss 0.06\n",
      "loss 0.10\n",
      "loss 0.12\n",
      "loss 0.09\n",
      "loss 0.14\n",
      "loss 0.09\n",
      "loss 0.13\n",
      "loss 0.21\n",
      "loss 0.25\n",
      "Saved checkpoint for step 60: ./tf_ckpts/ckpt-6\n",
      "loss 0.29\n",
      "loss 0.05\n",
      "loss 0.06\n",
      "loss 0.15\n",
      "loss 0.26\n",
      "loss 0.33\n",
      "loss 0.05\n",
      "loss 0.07\n",
      "loss 0.07\n",
      "loss 0.14\n",
      "Saved checkpoint for step 70: ./tf_ckpts/ckpt-7\n",
      "loss 0.20\n",
      "loss 0.09\n",
      "loss 0.09\n",
      "loss 0.10\n",
      "loss 0.15\n",
      "loss 0.17\n",
      "loss 0.06\n",
      "loss 0.08\n",
      "loss 0.13\n",
      "loss 0.16\n",
      "Saved checkpoint for step 80: ./tf_ckpts/ckpt-8\n",
      "loss 0.16\n",
      "loss 0.03\n",
      "loss 0.04\n",
      "loss 0.12\n",
      "loss 0.19\n",
      "loss 0.21\n",
      "loss 0.04\n",
      "loss 0.07\n",
      "loss 0.13\n",
      "loss 0.18\n",
      "Saved checkpoint for step 90: ./tf_ckpts/ckpt-9\n",
      "loss 0.14\n",
      "loss 0.08\n",
      "loss 0.11\n",
      "loss 0.24\n",
      "loss 0.36\n",
      "loss 0.40\n",
      "loss 0.06\n",
      "loss 0.06\n",
      "loss 0.16\n",
      "loss 0.26\n",
      "Saved checkpoint for step 100: ./tf_ckpts/ckpt-10\n",
      "loss 0.31\n"
     ]
    }
   ],
   "source": [
    "train_and_checkpoint(net, manager)"
   ]
  },
  {
   "cell_type": "code",
   "execution_count": 18,
   "metadata": {},
   "outputs": [
    {
     "name": "stdout",
     "output_type": "stream",
     "text": [
      "['./tf_ckpts/ckpt-8', './tf_ckpts/ckpt-9', './tf_ckpts/ckpt-10']\n"
     ]
    }
   ],
   "source": [
    "print(manager.checkpoints)"
   ]
  },
  {
   "cell_type": "code",
   "execution_count": 19,
   "metadata": {},
   "outputs": [
    {
     "name": "stdout",
     "output_type": "stream",
     "text": [
      "checkpoint                  ckpt-8.index\r\n",
      "ckpt-10.data-00000-of-00001 ckpt-9.data-00000-of-00001\r\n",
      "ckpt-10.index               ckpt-9.index\r\n",
      "ckpt-8.data-00000-of-00001\r\n"
     ]
    }
   ],
   "source": []
  },
  {
   "cell_type": "code",
   "execution_count": null,
   "metadata": {
    "collapsed": true
   },
   "outputs": [],
   "source": []
  }
 ],
 "metadata": {
  "kernelspec": {
   "display_name": "Python (epi)",
   "language": "python",
   "name": "epi"
  },
  "language_info": {
   "codemirror_mode": {
    "name": "ipython",
    "version": 3
   },
   "file_extension": ".py",
   "mimetype": "text/x-python",
   "name": "python",
   "nbconvert_exporter": "python",
   "pygments_lexer": "ipython3",
   "version": "3.6.7"
  }
 },
 "nbformat": 4,
 "nbformat_minor": 2
}
