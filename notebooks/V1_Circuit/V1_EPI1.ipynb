{
 "cells": [
  {
   "cell_type": "code",
   "execution_count": 8,
   "metadata": {},
   "outputs": [
    {
     "name": "stdout",
     "output_type": "stream",
     "text": [
      "The autoreload extension is already loaded. To reload it, use:\n",
      "  %reload_ext autoreload\n"
     ]
    }
   ],
   "source": [
    "%matplotlib inline\n",
    "%load_ext autoreload\n",
    "%autoreload 2\n",
    "\n",
    "import scipy\n",
    "#import matplotlib.colors\n",
    "import matplotlib.pyplot as plt\n",
    "from mpl_toolkits.mplot3d import Axes3D\n",
    "import numpy as np\n",
    "from epi.models import Parameter, Model\n",
    "from epi.normalizing_flows import NormalizingFlow\n",
    "from epi.util import pairplot, AugLagHPs\n",
    "from epi.example_eps import V1_dr_eps, V1_all_dr_eps\n",
    "\n",
    "neuron_inds = {'E':0, 'P':1, 'S':2, 'V':3}"
   ]
  },
  {
   "cell_type": "code",
   "execution_count": 2,
   "metadata": {},
   "outputs": [],
   "source": [
    "inc_val = 0.0\n",
    "inc_std = 0.25\n",
    "\n",
    "D = 4\n",
    "lb = -5.*np.ones((D,))\n",
    "ub = 5.*np.ones((D,))\n",
    "\n",
    "dh = Parameter(\"dh\", D, lb=lb, ub=ub)\n",
    "parameters = [dh]\n",
    "\n",
    "alphas = ['E', 'P', 'S', 'V']\n",
    "num_alphas = len(alphas)\n",
    "\n",
    "black = np.array([0, 0, 0])\n",
    "blue = '#4769A0'\n",
    "red = '#AF3A31'\n",
    "green = '#287C5A'\n",
    "colors = [black, blue, red, green]"
   ]
  },
  {
   "cell_type": "code",
   "execution_count": 26,
   "metadata": {},
   "outputs": [],
   "source": [
    "# Define model\n",
    "alpha = 'V'\n",
    "\n",
    "name = \"V1Circuit_%s\" % alpha\n",
    "dh = Parameter(\"dh\", D, lb=lb, ub=ub)\n",
    "parameters = [dh]\n",
    "model = Model(name, parameters)\n",
    "\n",
    "# Define eps\n",
    "dr = V1_dr_eps(alpha, inc_val)\n",
    "model.set_eps(dr)\n",
    "mu = np.array([inc_val, inc_std**2])"
   ]
  },
  {
   "cell_type": "code",
   "execution_count": 31,
   "metadata": {},
   "outputs": [
    {
     "name": "stdout",
     "output_type": "stream",
     "text": [
      "     Unnamed: 0  k  iteration         H  converged        R1         R2  \\\n",
      "0             0  0          0  8.680102        NaN  3.155783  65.777120   \n",
      "1             1  1        250  7.858070        NaN -0.635897   1.846362   \n",
      "2             2  1        500  7.967384        NaN -0.741688   0.826350   \n",
      "3             3  1        750  8.159073        NaN -0.705430   1.138684   \n",
      "4             4  1       1000  8.200163        NaN -0.688096   1.049819   \n",
      "..          ... ..        ...       ...        ...       ...        ...   \n",
      "176         176  9      44000  5.667620        NaN -0.043258   0.000202   \n",
      "177         177  9      44250  5.734635        NaN  0.019894   0.008512   \n",
      "178         178  9      44500  5.709194        NaN -0.032485   0.001643   \n",
      "179         179  9      44750  5.661214        NaN -0.008262   0.000484   \n",
      "180         180  9      45000  5.709696        1.0 -0.008903   0.019020   \n",
      "\n",
      "                                                  path  \\\n",
      "0    data/epi/V1Circuit_V/54385a77ae9b35de8ad613696...   \n",
      "1    data/epi/V1Circuit_V/54385a77ae9b35de8ad613696...   \n",
      "2    data/epi/V1Circuit_V/54385a77ae9b35de8ad613696...   \n",
      "3    data/epi/V1Circuit_V/54385a77ae9b35de8ad613696...   \n",
      "4    data/epi/V1Circuit_V/54385a77ae9b35de8ad613696...   \n",
      "..                                                 ...   \n",
      "176  data/epi/V1Circuit_V/54385a77ae9b35de8ad613696...   \n",
      "177  data/epi/V1Circuit_V/54385a77ae9b35de8ad613696...   \n",
      "178  data/epi/V1Circuit_V/54385a77ae9b35de8ad613696...   \n",
      "179  data/epi/V1Circuit_V/54385a77ae9b35de8ad613696...   \n",
      "180  data/epi/V1Circuit_V/54385a77ae9b35de8ad613696...   \n",
      "\n",
      "                                                  init  \\\n",
      "0    {'mu': [0.0, 0.0, 0.0, 0.0], 'Sigma': [[1.0, 0...   \n",
      "1    {'mu': [0.0, 0.0, 0.0, 0.0], 'Sigma': [[1.0, 0...   \n",
      "2    {'mu': [0.0, 0.0, 0.0, 0.0], 'Sigma': [[1.0, 0...   \n",
      "3    {'mu': [0.0, 0.0, 0.0, 0.0], 'Sigma': [[1.0, 0...   \n",
      "4    {'mu': [0.0, 0.0, 0.0, 0.0], 'Sigma': [[1.0, 0...   \n",
      "..                                                 ...   \n",
      "176  {'mu': [0.0, 0.0, 0.0, 0.0], 'Sigma': [[1.0, 0...   \n",
      "177  {'mu': [0.0, 0.0, 0.0, 0.0], 'Sigma': [[1.0, 0...   \n",
      "178  {'mu': [0.0, 0.0, 0.0, 0.0], 'Sigma': [[1.0, 0...   \n",
      "179  {'mu': [0.0, 0.0, 0.0, 0.0], 'Sigma': [[1.0, 0...   \n",
      "180  {'mu': [0.0, 0.0, 0.0, 0.0], 'Sigma': [[1.0, 0...   \n",
      "\n",
      "                                                  arch  \\\n",
      "0    {'arch_type': 'coupling', 'D': 4, 'num_stages'...   \n",
      "1    {'arch_type': 'coupling', 'D': 4, 'num_stages'...   \n",
      "2    {'arch_type': 'coupling', 'D': 4, 'num_stages'...   \n",
      "3    {'arch_type': 'coupling', 'D': 4, 'num_stages'...   \n",
      "4    {'arch_type': 'coupling', 'D': 4, 'num_stages'...   \n",
      "..                                                 ...   \n",
      "176  {'arch_type': 'coupling', 'D': 4, 'num_stages'...   \n",
      "177  {'arch_type': 'coupling', 'D': 4, 'num_stages'...   \n",
      "178  {'arch_type': 'coupling', 'D': 4, 'num_stages'...   \n",
      "179  {'arch_type': 'coupling', 'D': 4, 'num_stages'...   \n",
      "180  {'arch_type': 'coupling', 'D': 4, 'num_stages'...   \n",
      "\n",
      "                                      EP  \\\n",
      "0    {'name': 'dr', 'mu': [0.0, 0.0625]}   \n",
      "1    {'name': 'dr', 'mu': [0.0, 0.0625]}   \n",
      "2    {'name': 'dr', 'mu': [0.0, 0.0625]}   \n",
      "3    {'name': 'dr', 'mu': [0.0, 0.0625]}   \n",
      "4    {'name': 'dr', 'mu': [0.0, 0.0625]}   \n",
      "..                                   ...   \n",
      "176  {'name': 'dr', 'mu': [0.0, 0.0625]}   \n",
      "177  {'name': 'dr', 'mu': [0.0, 0.0625]}   \n",
      "178  {'name': 'dr', 'mu': [0.0, 0.0625]}   \n",
      "179  {'name': 'dr', 'mu': [0.0, 0.0625]}   \n",
      "180  {'name': 'dr', 'mu': [0.0, 0.0625]}   \n",
      "\n",
      "                                                AL_hps  \n",
      "0    {'N': 500, 'lr': 0.001, 'c0': 1.0, 'gamma': 0....  \n",
      "1    {'N': 500, 'lr': 0.001, 'c0': 1.0, 'gamma': 0....  \n",
      "2    {'N': 500, 'lr': 0.001, 'c0': 1.0, 'gamma': 0....  \n",
      "3    {'N': 500, 'lr': 0.001, 'c0': 1.0, 'gamma': 0....  \n",
      "4    {'N': 500, 'lr': 0.001, 'c0': 1.0, 'gamma': 0....  \n",
      "..                                                 ...  \n",
      "176  {'N': 500, 'lr': 0.001, 'c0': 1.0, 'gamma': 0....  \n",
      "177  {'N': 500, 'lr': 0.001, 'c0': 1.0, 'gamma': 0....  \n",
      "178  {'N': 500, 'lr': 0.001, 'c0': 1.0, 'gamma': 0....  \n",
      "179  {'N': 500, 'lr': 0.001, 'c0': 1.0, 'gamma': 0....  \n",
      "180  {'N': 500, 'lr': 0.001, 'c0': 1.0, 'gamma': 0....  \n",
      "\n",
      "[181 rows x 12 columns]\n"
     ]
    }
   ],
   "source": [
    "epi_df = model.get_epi_df()\n",
    "print(epi_df)"
   ]
  },
  {
   "cell_type": "code",
   "execution_count": 30,
   "metadata": {},
   "outputs": [
    {
     "data": {
      "text/plain": [
       "<AxesSubplot:xlabel='iteration'>"
      ]
     },
     "execution_count": 30,
     "metadata": {},
     "output_type": "execute_result"
    },
    {
     "data": {
      "image/png": "[encoded data removed]",
      "text/plain": [
       "<Figure size 432x288 with 1 Axes>"
      ]
     },
     "metadata": {
      "needs_background": "light"
     },
     "output_type": "display_data"
    },
    {
     "data": {
      "image/png": "[encoded data removed]",
      "text/plain": [
       "<Figure size 432x288 with 1 Axes>"
      ]
     },
     "metadata": {
      "needs_background": "light"
     },
     "output_type": "display_data"
    },
    {
     "data": {
      "image/png": "[encoded data removed]",
      "text/plain": [
       "<Figure size 432x288 with 1 Axes>"
      ]
     },
     "metadata": {
      "needs_background": "light"
     },
     "output_type": "display_data"
    }
   ],
   "source": [
    "epi_df.plot('iteration', 'H')\n",
    "epi_df.plot('iteration', 'R1')\n",
    "epi_df.plot('iteration', 'R2')"
   ]
  },
  {
   "cell_type": "code",
   "execution_count": null,
   "metadata": {},
   "outputs": [],
   "source": []
  },
  {
   "cell_type": "code",
   "execution_count": 28,
   "metadata": {},
   "outputs": [
    {
     "name": "stdout",
     "output_type": "stream",
     "text": [
      "data/epi/V1Circuit_V/54385a77ae9b35de8ad613696e4e2ad4/D4_C3_L2_U50_bnmom=9.90E-01_PA_rs2/5bdb0b5c6589838cdbb6a35f72b66119/N500_lr1.00E-03_c0=1.00E+00_gamma2.50E-01_beta4.00E+00 True\n"
     ]
    }
   ],
   "source": [
    "# Define inititalization params\n",
    "init_params = {'mu':np.zeros((model.D,)), 'Sigma':np.eye(model.D)}\n",
    "\n",
    "# Define arch\n",
    "nf = NormalizingFlow(\n",
    "    arch_type='coupling',\n",
    "    D=model.D,\n",
    "    num_stages=3,\n",
    "    num_layers=2,\n",
    "    num_units=50,\n",
    "    batch_norm=True,\n",
    "    post_affine=True,\n",
    "    bounds=model._get_bounds(),\n",
    "    random_seed=2,\n",
    ")\n",
    "\n",
    "AL_hps = AugLagHPs(N=500, lr=1e-3, c0=1., gamma=0.25, beta=4.)\n",
    "\n",
    "epi_path, exists = model.get_epi_path(init_params, nf, mu, AL_hps)\n",
    "print(epi_path, exists)"
   ]
  }
 ],
 "metadata": {
  "kernelspec": {
   "display_name": "Python (epi)",
   "language": "python",
   "name": "epi"
  },
  "language_info": {
   "codemirror_mode": {
    "name": "ipython",
    "version": 3
   },
   "file_extension": ".py",
   "mimetype": "text/x-python",
   "name": "python",
   "nbconvert_exporter": "python",
   "pygments_lexer": "ipython3",
   "version": "3.6.10"
  }
 },
 "nbformat": 4,
 "nbformat_minor": 4
}
