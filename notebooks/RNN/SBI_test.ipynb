{
 "cells": [
  {
   "cell_type": "code",
   "execution_count": 1,
   "id": "purple-fitness",
   "metadata": {},
   "outputs": [
    {
     "data": {
      "text/plain": [
       "'SNPE: RNN stable amplification.'"
      ]
     },
     "execution_count": 1,
     "metadata": {},
     "output_type": "execute_result"
    }
   ],
   "source": [
    "%load_ext autoreload\n",
    "%autoreload 2\n",
    "\n",
    "from neural_circuits.LRRNN import get_W_eigs_np\n",
    "import numpy as np\n",
    "import os\n",
    "import pickle\n",
    "import matplotlib.pyplot as plt\n",
    "\n",
    "import torch\n",
    "from sbi import utils as utils\n",
    "from sbi import analysis as analysis\n",
    "from sbi.inference import SNPE, prepare_for_sbi, simulate_for_sbi\n",
    "from sbi.utils.get_nn_models import posterior_nn\n",
    "torch.manual_seed(0)\n",
    "\n",
    "\"\"\"SNPE: RNN stable amplification.\"\"\""
   ]
  },
  {
   "cell_type": "code",
   "execution_count": 2,
   "id": "expired-paper",
   "metadata": {},
   "outputs": [],
   "source": [
    "g = 0.0001\n",
    "K = 1\n",
    "_W_eigs = get_W_eigs_np(g, K)\n",
    "\n",
    "N = 2\n",
    "RANK = 2\n",
    "num_dim = 2*N*RANK\n",
    "prior = utils.BoxUniform(low=-1.*torch.ones(num_dim), high=1.*torch.ones(num_dim))\n",
    "\n",
    "def simulator(params):\n",
    "    params = params.numpy()\n",
    "    U = np.reshape(params[:(RANK*N)], (N,RANK))\n",
    "    V = np.reshape(params[(RANK*N):], (N,RANK))\n",
    "    x = _W_eigs(U, V)\n",
    "    return x"
   ]
  },
  {
   "cell_type": "code",
   "execution_count": 3,
   "id": "center-storage",
   "metadata": {},
   "outputs": [],
   "source": [
    "simulator, prior = prepare_for_sbi(simulator, prior)\n",
    "density_estimator_build_fun = posterior_nn(model='maf', hidden_features=50, num_transforms=2,\n",
    "                                           z_score_x=False, z_score_theta=False,\n",
    "                                           support_map=True)\n",
    "x_0 = torch.tensor([0.5, 1.5])\n",
    "\n",
    "inference = SNPE(prior, density_estimator=density_estimator_build_fun)"
   ]
  },
  {
   "cell_type": "code",
   "execution_count": 12,
   "id": "golden-investigation",
   "metadata": {},
   "outputs": [
    {
     "data": {
      "application/vnd.jupyter.widget-view+json": {
       "model_id": "f4b09391992545e7a41f5eef5aed1233",
       "version_major": 2,
       "version_minor": 0
      },
      "text/plain": [
       "Running 100 simulations.:   0%|          | 0/100 [00:00<?, ?it/s]"
      ]
     },
     "metadata": {},
     "output_type": "display_data"
    },
    {
     "name": "stdout",
     "output_type": "stream",
     "text": [
      "None torch.Size([50, 8])\n",
      "None torch.Size([50])\n",
      "None torch.Size([50, 2])\n",
      "None torch.Size([50])\n",
      "None torch.Size([50])\n",
      "None torch.Size([50])\n",
      "None torch.Size([50, 50])\n",
      "None torch.Size([50])\n",
      "None torch.Size([50])\n",
      "None torch.Size([50])\n",
      "None torch.Size([50, 50])\n",
      "None torch.Size([50])\n",
      "None torch.Size([16, 50])\n",
      "None torch.Size([16])\n",
      "None torch.Size([50, 8])\n",
      "None torch.Size([50])\n",
      "None torch.Size([50, 2])\n",
      "None torch.Size([50])\n",
      "None torch.Size([50])\n",
      "None torch.Size([50])\n",
      "None torch.Size([50, 50])\n",
      "None torch.Size([50])\n",
      "None torch.Size([50])\n",
      "None torch.Size([50])\n",
      "None torch.Size([50, 50])\n",
      "None torch.Size([50])\n",
      "None torch.Size([16, 50])\n",
      "None torch.Size([16])\n"
     ]
    }
   ],
   "source": [
    "theta, x = simulate_for_sbi(simulator, proposal=prior, num_simulations=100)\n",
    "maf = density_estimator_build_fun(theta, x)\n",
    "for param in maf.parameters():\n",
    "    print(param.name, param.shape)"
   ]
  },
  {
   "cell_type": "code",
   "execution_count": 14,
   "id": "approved-ordinary",
   "metadata": {
    "scrolled": true
   },
   "outputs": [
    {
     "name": "stdout",
     "output_type": "stream",
     "text": [
      "Round 1:\n"
     ]
    },
    {
     "data": {
      "application/vnd.jupyter.widget-view+json": {
       "model_id": "ce2b405f1d274a418a2d52d5a8d766c8",
       "version_major": 2,
       "version_minor": 0
      },
      "text/plain": [
       "Running 100 simulations.:   0%|          | 0/100 [00:00<?, ?it/s]"
      ]
     },
     "metadata": {},
     "output_type": "display_data"
    },
    {
     "name": "stdout",
     "output_type": "stream",
     "text": [
      "Neural network successfully converged after 25 epochs.\n",
      "Round 2, Best (1):\n"
     ]
    },
    {
     "data": {
      "application/vnd.jupyter.widget-view+json": {
       "model_id": "8869d9476a30438dab3fc175bae33d0c",
       "version_major": 2,
       "version_minor": 0
      },
      "text/plain": [
       "Drawing 100 posterior samples:   0%|          | 0/100 [00:00<?, ?it/s]"
      ]
     },
     "metadata": {},
     "output_type": "display_data"
    },
    {
     "data": {
      "application/vnd.jupyter.widget-view+json": {
       "model_id": "56f2196b0ff0464a85af3ec11276011a",
       "version_major": 2,
       "version_minor": 0
      },
      "text/plain": [
       "Running 100 simulations.:   0%|          | 0/100 [00:00<?, ?it/s]"
      ]
     },
     "metadata": {},
     "output_type": "display_data"
    },
    {
     "name": "stdout",
     "output_type": "stream",
     "text": [
      "Neural network successfully converged after 24 epochs.\n"
     ]
    }
   ],
   "source": [
    "num_rounds = 2\n",
    "persist_rounds = 5\n",
    "best_round = 0\n",
    "\n",
    "posteriors = []\n",
    "proposal = prior\n",
    "for r in range(num_rounds):\n",
    "    if r == 0:\n",
    "        print('Round %d:' % (r+1))\n",
    "    else:\n",
    "        print('Round %d, Best (%d):' % (r+1, best_round+1))\n",
    "    theta, x = simulate_for_sbi(simulator, proposal=proposal, num_simulations=100)\n",
    "    inference = inference.append_simulations(theta, x)\n",
    "    density_estimator = inference.train(training_batch_size=25)\n",
    "    posterior = inference.build_posterior(density_estimator)\n",
    "    posteriors.append(posterior)\n",
    "    best_round = np.argmax(inference.summary['best_validation_log_probs'])\n",
    "    if best_round + persist_rounds == r:\n",
    "        break\n",
    "    proposal = posterior.set_default_x(x_0)"
   ]
  },
  {
   "cell_type": "code",
   "execution_count": 15,
   "id": "transparent-firewall",
   "metadata": {},
   "outputs": [
    {
     "name": "stdout",
     "output_type": "stream",
     "text": [
      "0 None torch.Size([50, 8])\n",
      "1 None torch.Size([50])\n",
      "2 None torch.Size([50, 2])\n",
      "3 None torch.Size([50])\n",
      "4 None torch.Size([50])\n",
      "5 None torch.Size([50])\n",
      "6 None torch.Size([50, 50])\n",
      "7 None torch.Size([50])\n",
      "8 None torch.Size([50])\n",
      "9 None torch.Size([50])\n",
      "10 None torch.Size([50, 50])\n",
      "11 None torch.Size([50])\n",
      "12 None torch.Size([16, 50])\n",
      "13 None torch.Size([16])\n",
      "14 None torch.Size([50, 8])\n",
      "15 None torch.Size([50])\n",
      "16 None torch.Size([50, 2])\n",
      "17 None torch.Size([50])\n",
      "18 None torch.Size([50])\n",
      "19 None torch.Size([50])\n",
      "20 None torch.Size([50, 50])\n",
      "21 None torch.Size([50])\n",
      "22 None torch.Size([50])\n",
      "23 None torch.Size([50])\n",
      "24 None torch.Size([50, 50])\n",
      "25 None torch.Size([50])\n",
      "26 None torch.Size([16, 50])\n",
      "27 None torch.Size([16])\n"
     ]
    }
   ],
   "source": [
    "for i, param in enumerate(density_estimator.parameters()):\n",
    "    print(i, param.name, param.shape)\n"
   ]
  },
  {
   "cell_type": "code",
   "execution_count": 5,
   "id": "latin-ethiopia",
   "metadata": {},
   "outputs": [
    {
     "data": {
      "text/plain": [
       "[<matplotlib.lines.Line2D at 0x7ff8cbc5bd68>]"
      ]
     },
     "execution_count": 5,
     "metadata": {},
     "output_type": "execute_result"
    },
    {
     "data": {
      "image/png": "[encoded data removed]",
      "text/plain": [
       "<Figure size 432x288 with 1 Axes>"
      ]
     },
     "metadata": {
      "needs_background": "light"
     },
     "output_type": "display_data"
    }
   ],
   "source": [
    "epochs = len(inference._summary['validation_log_probs'])\n",
    "plt.plot(range(1, epochs+1), inference._summary['validation_log_probs'])"
   ]
  },
  {
   "cell_type": "code",
   "execution_count": 6,
   "id": "heated-crazy",
   "metadata": {},
   "outputs": [
    {
     "data": {
      "text/plain": [
       "[<matplotlib.lines.Line2D at 0x7ff8cc1083c8>]"
      ]
     },
     "execution_count": 6,
     "metadata": {},
     "output_type": "execute_result"
    },
    {
     "data": {
      "image/png": "[encoded data removed]",
      "text/plain": [
       "<Figure size 432x288 with 1 Axes>"
      ]
     },
     "metadata": {
      "needs_background": "light"
     },
     "output_type": "display_data"
    }
   ],
   "source": [
    "plt.plot(inference.summary['best_validation_log_probs'])"
   ]
  },
  {
   "cell_type": "code",
   "execution_count": 7,
   "id": "caring-ballot",
   "metadata": {},
   "outputs": [
    {
     "data": {
      "application/vnd.jupyter.widget-view+json": {
       "model_id": "e27354cac25447d98b60692e4674b2e7",
       "version_major": 2,
       "version_minor": 0
      },
      "text/plain": [
       "Drawing 1000 posterior samples:   0%|          | 0/1000 [00:00<?, ?it/s]"
      ]
     },
     "metadata": {},
     "output_type": "display_data"
    },
    {
     "data": {
      "application/vnd.jupyter.widget-view+json": {
       "model_id": "f54c06d20e0a4aafb2b36e423b8f7a5b",
       "version_major": 2,
       "version_minor": 0
      },
      "text/plain": [
       "Drawing 1000 posterior samples:   0%|          | 0/1000 [00:00<?, ?it/s]"
      ]
     },
     "metadata": {},
     "output_type": "display_data"
    },
    {
     "data": {
      "application/vnd.jupyter.widget-view+json": {
       "model_id": "208ab00a76f14cad99b18faed3c95f0f",
       "version_major": 2,
       "version_minor": 0
      },
      "text/plain": [
       "Drawing 1000 posterior samples:   0%|          | 0/1000 [00:00<?, ?it/s]"
      ]
     },
     "metadata": {},
     "output_type": "display_data"
    },
    {
     "data": {
      "application/vnd.jupyter.widget-view+json": {
       "model_id": "26d3df4787e44490b18da31349baf006",
       "version_major": 2,
       "version_minor": 0
      },
      "text/plain": [
       "Drawing 1000 posterior samples:   0%|          | 0/1000 [00:00<?, ?it/s]"
      ]
     },
     "metadata": {},
     "output_type": "display_data"
    },
    {
     "data": {
      "application/vnd.jupyter.widget-view+json": {
       "model_id": "2ffb1f09f4cc46bab421b1c877bd3437",
       "version_major": 2,
       "version_minor": 0
      },
      "text/plain": [
       "Drawing 1000 posterior samples:   0%|          | 0/1000 [00:00<?, ?it/s]"
      ]
     },
     "metadata": {},
     "output_type": "display_data"
    },
    {
     "data": {
      "application/vnd.jupyter.widget-view+json": {
       "model_id": "b005d92fd56b4e8a99b426df16fa4faa",
       "version_major": 2,
       "version_minor": 0
      },
      "text/plain": [
       "Drawing 1000 posterior samples:   0%|          | 0/1000 [00:00<?, ?it/s]"
      ]
     },
     "metadata": {},
     "output_type": "display_data"
    },
    {
     "data": {
      "application/vnd.jupyter.widget-view+json": {
       "model_id": "da4e74ec7f8f4f8cb9dc2fbda69cea83",
       "version_major": 2,
       "version_minor": 0
      },
      "text/plain": [
       "Drawing 1000 posterior samples:   0%|          | 0/1000 [00:00<?, ?it/s]"
      ]
     },
     "metadata": {},
     "output_type": "display_data"
    },
    {
     "data": {
      "application/vnd.jupyter.widget-view+json": {
       "model_id": "7045d64d6bb84525ad3404f5ee428d3c",
       "version_major": 2,
       "version_minor": 0
      },
      "text/plain": [
       "Drawing 1000 posterior samples:   0%|          | 0/1000 [00:00<?, ?it/s]"
      ]
     },
     "metadata": {},
     "output_type": "display_data"
    },
    {
     "data": {
      "application/vnd.jupyter.widget-view+json": {
       "model_id": "f785bf79c9264ad49acb733543598db8",
       "version_major": 2,
       "version_minor": 0
      },
      "text/plain": [
       "Drawing 1000 posterior samples:   0%|          | 0/1000 [00:00<?, ?it/s]"
      ]
     },
     "metadata": {},
     "output_type": "display_data"
    },
    {
     "data": {
      "application/vnd.jupyter.widget-view+json": {
       "model_id": "f4dee0d7650e45669aefe0c935f94fad",
       "version_major": 2,
       "version_minor": 0
      },
      "text/plain": [
       "Drawing 1000 posterior samples:   0%|          | 0/1000 [00:00<?, ?it/s]"
      ]
     },
     "metadata": {},
     "output_type": "display_data"
    },
    {
     "data": {
      "application/vnd.jupyter.widget-view+json": {
       "model_id": "15846f35f1cc42518911e84c5faa9688",
       "version_major": 2,
       "version_minor": 0
      },
      "text/plain": [
       "Drawing 1000 posterior samples:   0%|          | 0/1000 [00:00<?, ?it/s]"
      ]
     },
     "metadata": {},
     "output_type": "display_data"
    },
    {
     "data": {
      "application/vnd.jupyter.widget-view+json": {
       "model_id": "d08898ad63eb40fa905a7ac502db6fb7",
       "version_major": 2,
       "version_minor": 0
      },
      "text/plain": [
       "Drawing 1000 posterior samples:   0%|          | 0/1000 [00:00<?, ?it/s]"
      ]
     },
     "metadata": {},
     "output_type": "display_data"
    },
    {
     "data": {
      "application/vnd.jupyter.widget-view+json": {
       "model_id": "57a7ccc0be3a4ab8af6f8eb02f6d92eb",
       "version_major": 2,
       "version_minor": 0
      },
      "text/plain": [
       "Drawing 1000 posterior samples:   0%|          | 0/1000 [00:00<?, ?it/s]"
      ]
     },
     "metadata": {},
     "output_type": "display_data"
    },
    {
     "data": {
      "application/vnd.jupyter.widget-view+json": {
       "model_id": "67a9ed3c8f364de3bd0ecd36a22719b1",
       "version_major": 2,
       "version_minor": 0
      },
      "text/plain": [
       "Drawing 1000 posterior samples:   0%|          | 0/1000 [00:00<?, ?it/s]"
      ]
     },
     "metadata": {},
     "output_type": "display_data"
    },
    {
     "data": {
      "application/vnd.jupyter.widget-view+json": {
       "model_id": "85b70c2dcb8049edb5220288c2f34e11",
       "version_major": 2,
       "version_minor": 0
      },
      "text/plain": [
       "Drawing 1000 posterior samples:   0%|          | 0/1000 [00:00<?, ?it/s]"
      ]
     },
     "metadata": {},
     "output_type": "display_data"
    },
    {
     "data": {
      "application/vnd.jupyter.widget-view+json": {
       "model_id": "d5648fb71efe473fbe477925939deb83",
       "version_major": 2,
       "version_minor": 0
      },
      "text/plain": [
       "Drawing 1000 posterior samples:   0%|          | 0/1000 [00:00<?, ?it/s]"
      ]
     },
     "metadata": {},
     "output_type": "display_data"
    },
    {
     "data": {
      "application/vnd.jupyter.widget-view+json": {
       "model_id": "3d7eb324cc784a3da9b1c7f3f9650587",
       "version_major": 2,
       "version_minor": 0
      },
      "text/plain": [
       "Drawing 1000 posterior samples:   0%|          | 0/1000 [00:00<?, ?it/s]"
      ]
     },
     "metadata": {},
     "output_type": "display_data"
    },
    {
     "data": {
      "application/vnd.jupyter.widget-view+json": {
       "model_id": "2dd3f989fbe74e85a3cb86113966ecc8",
       "version_major": 2,
       "version_minor": 0
      },
      "text/plain": [
       "Drawing 1000 posterior samples:   0%|          | 0/1000 [00:00<?, ?it/s]"
      ]
     },
     "metadata": {},
     "output_type": "display_data"
    },
    {
     "data": {
      "application/vnd.jupyter.widget-view+json": {
       "model_id": "a8845e124d34445483300d2801a4db1e",
       "version_major": 2,
       "version_minor": 0
      },
      "text/plain": [
       "Drawing 1000 posterior samples:   0%|          | 0/1000 [00:00<?, ?it/s]"
      ]
     },
     "metadata": {},
     "output_type": "display_data"
    },
    {
     "data": {
      "application/vnd.jupyter.widget-view+json": {
       "model_id": "aa3b2d129f9c46f3b8b3054e48e826cf",
       "version_major": 2,
       "version_minor": 0
      },
      "text/plain": [
       "Drawing 1000 posterior samples:   0%|          | 0/1000 [00:00<?, ?it/s]"
      ]
     },
     "metadata": {},
     "output_type": "display_data"
    },
    {
     "data": {
      "application/vnd.jupyter.widget-view+json": {
       "model_id": "a2f14cff302b4570ac085aa49646740e",
       "version_major": 2,
       "version_minor": 0
      },
      "text/plain": [
       "Drawing 1000 posterior samples:   0%|          | 0/1000 [00:00<?, ?it/s]"
      ]
     },
     "metadata": {},
     "output_type": "display_data"
    },
    {
     "data": {
      "application/vnd.jupyter.widget-view+json": {
       "model_id": "29e105f3e03f4993a73c515f8208cf30",
       "version_major": 2,
       "version_minor": 0
      },
      "text/plain": [
       "Drawing 1000 posterior samples:   0%|          | 0/1000 [00:00<?, ?it/s]"
      ]
     },
     "metadata": {},
     "output_type": "display_data"
    },
    {
     "data": {
      "application/vnd.jupyter.widget-view+json": {
       "model_id": "87415be9830642acbef1bada9ccdd7ef",
       "version_major": 2,
       "version_minor": 0
      },
      "text/plain": [
       "Drawing 1000 posterior samples:   0%|          | 0/1000 [00:00<?, ?it/s]"
      ]
     },
     "metadata": {},
     "output_type": "display_data"
    },
    {
     "data": {
      "application/vnd.jupyter.widget-view+json": {
       "model_id": "28fe2cff47be44dbb09ae9c1b1b73fc3",
       "version_major": 2,
       "version_minor": 0
      },
      "text/plain": [
       "Drawing 1000 posterior samples:   0%|          | 0/1000 [00:00<?, ?it/s]"
      ]
     },
     "metadata": {},
     "output_type": "display_data"
    },
    {
     "data": {
      "application/vnd.jupyter.widget-view+json": {
       "model_id": "31bbed64dbbf49d9aa6dcaeda90ec102",
       "version_major": 2,
       "version_minor": 0
      },
      "text/plain": [
       "Drawing 1000 posterior samples:   0%|          | 0/1000 [00:00<?, ?it/s]"
      ]
     },
     "metadata": {},
     "output_type": "display_data"
    },
    {
     "data": {
      "application/vnd.jupyter.widget-view+json": {
       "model_id": "b4ba4b9cff4f4a4bb238d6484e4e0387",
       "version_major": 2,
       "version_minor": 0
      },
      "text/plain": [
       "Drawing 1000 posterior samples:   0%|          | 0/1000 [00:00<?, ?it/s]"
      ]
     },
     "metadata": {},
     "output_type": "display_data"
    },
    {
     "data": {
      "application/vnd.jupyter.widget-view+json": {
       "model_id": "c8444bd710394fab8aa8926cde86ab7b",
       "version_major": 2,
       "version_minor": 0
      },
      "text/plain": [
       "Drawing 1000 posterior samples:   0%|          | 0/1000 [00:00<?, ?it/s]"
      ]
     },
     "metadata": {},
     "output_type": "display_data"
    },
    {
     "data": {
      "application/vnd.jupyter.widget-view+json": {
       "model_id": "1323a0d0d0eb4557b2983cab21127f79",
       "version_major": 2,
       "version_minor": 0
      },
      "text/plain": [
       "Drawing 1000 posterior samples:   0%|          | 0/1000 [00:00<?, ?it/s]"
      ]
     },
     "metadata": {},
     "output_type": "display_data"
    },
    {
     "data": {
      "application/vnd.jupyter.widget-view+json": {
       "model_id": "316f294d07ff4b288269f7ee81c49a6c",
       "version_major": 2,
       "version_minor": 0
      },
      "text/plain": [
       "Drawing 1000 posterior samples:   0%|          | 0/1000 [00:00<?, ?it/s]"
      ]
     },
     "metadata": {},
     "output_type": "display_data"
    },
    {
     "data": {
      "application/vnd.jupyter.widget-view+json": {
       "model_id": "867c791f8df34756a4a433d94596fcad",
       "version_major": 2,
       "version_minor": 0
      },
      "text/plain": [
       "Drawing 1000 posterior samples:   0%|          | 0/1000 [00:00<?, ?it/s]"
      ]
     },
     "metadata": {},
     "output_type": "display_data"
    },
    {
     "data": {
      "application/vnd.jupyter.widget-view+json": {
       "model_id": "816f90f395204f0596a0938eae6858d8",
       "version_major": 2,
       "version_minor": 0
      },
      "text/plain": [
       "Drawing 1000 posterior samples:   0%|          | 0/1000 [00:00<?, ?it/s]"
      ]
     },
     "metadata": {},
     "output_type": "display_data"
    },
    {
     "data": {
      "application/vnd.jupyter.widget-view+json": {
       "model_id": "13f51856d3c747619038f871c0e662ce",
       "version_major": 2,
       "version_minor": 0
      },
      "text/plain": [
       "Drawing 1000 posterior samples:   0%|          | 0/1000 [00:00<?, ?it/s]"
      ]
     },
     "metadata": {},
     "output_type": "display_data"
    },
    {
     "data": {
      "application/vnd.jupyter.widget-view+json": {
       "model_id": "1cfa512220644e0089896994e5d67d04",
       "version_major": 2,
       "version_minor": 0
      },
      "text/plain": [
       "Drawing 1000 posterior samples:   0%|          | 0/1000 [00:00<?, ?it/s]"
      ]
     },
     "metadata": {},
     "output_type": "display_data"
    },
    {
     "data": {
      "application/vnd.jupyter.widget-view+json": {
       "model_id": "5587c89d13ab4465872be10d315c15da",
       "version_major": 2,
       "version_minor": 0
      },
      "text/plain": [
       "Drawing 1000 posterior samples:   0%|          | 0/1000 [00:00<?, ?it/s]"
      ]
     },
     "metadata": {},
     "output_type": "display_data"
    },
    {
     "data": {
      "application/vnd.jupyter.widget-view+json": {
       "model_id": "221392332a70494fb050005d5ff6530a",
       "version_major": 2,
       "version_minor": 0
      },
      "text/plain": [
       "Drawing 1000 posterior samples:   0%|          | 0/1000 [00:00<?, ?it/s]"
      ]
     },
     "metadata": {},
     "output_type": "display_data"
    },
    {
     "data": {
      "application/vnd.jupyter.widget-view+json": {
       "model_id": "f152cf7519954deaa3ee790ecc6e341f",
       "version_major": 2,
       "version_minor": 0
      },
      "text/plain": [
       "Drawing 1000 posterior samples:   0%|          | 0/1000 [00:00<?, ?it/s]"
      ]
     },
     "metadata": {},
     "output_type": "display_data"
    },
    {
     "data": {
      "application/vnd.jupyter.widget-view+json": {
       "model_id": "51d77ce4d2b74a32ba7173ba85607376",
       "version_major": 2,
       "version_minor": 0
      },
      "text/plain": [
       "Drawing 1000 posterior samples:   0%|          | 0/1000 [00:00<?, ?it/s]"
      ]
     },
     "metadata": {},
     "output_type": "display_data"
    },
    {
     "data": {
      "application/vnd.jupyter.widget-view+json": {
       "model_id": "7e8795b18e5449bb9e0300428de3f683",
       "version_major": 2,
       "version_minor": 0
      },
      "text/plain": [
       "Drawing 1000 posterior samples:   0%|          | 0/1000 [00:00<?, ?it/s]"
      ]
     },
     "metadata": {},
     "output_type": "display_data"
    },
    {
     "data": {
      "application/vnd.jupyter.widget-view+json": {
       "model_id": "d1512d586bf24602aa4587237b0eb528",
       "version_major": 2,
       "version_minor": 0
      },
      "text/plain": [
       "Drawing 1000 posterior samples:   0%|          | 0/1000 [00:00<?, ?it/s]"
      ]
     },
     "metadata": {},
     "output_type": "display_data"
    },
    {
     "data": {
      "application/vnd.jupyter.widget-view+json": {
       "model_id": "0bf37b5351084e8d9a53ee0e4720a317",
       "version_major": 2,
       "version_minor": 0
      },
      "text/plain": [
       "Drawing 1000 posterior samples:   0%|          | 0/1000 [00:00<?, ?it/s]"
      ]
     },
     "metadata": {},
     "output_type": "display_data"
    },
    {
     "data": {
      "application/vnd.jupyter.widget-view+json": {
       "model_id": "1edbf98549ed400e9e3d9ec85f1b69f5",
       "version_major": 2,
       "version_minor": 0
      },
      "text/plain": [
       "Drawing 1000 posterior samples:   0%|          | 0/1000 [00:00<?, ?it/s]"
      ]
     },
     "metadata": {},
     "output_type": "display_data"
    },
    {
     "data": {
      "application/vnd.jupyter.widget-view+json": {
       "model_id": "f9da5fc16c1f471fa3eb00345fb733c1",
       "version_major": 2,
       "version_minor": 0
      },
      "text/plain": [
       "Drawing 1000 posterior samples:   0%|          | 0/1000 [00:00<?, ?it/s]"
      ]
     },
     "metadata": {},
     "output_type": "display_data"
    },
    {
     "data": {
      "application/vnd.jupyter.widget-view+json": {
       "model_id": "a2f8e3f2e9154f0b846c7c1ae3b0a5ef",
       "version_major": 2,
       "version_minor": 0
      },
      "text/plain": [
       "Drawing 1000 posterior samples:   0%|          | 0/1000 [00:00<?, ?it/s]"
      ]
     },
     "metadata": {},
     "output_type": "display_data"
    },
    {
     "data": {
      "application/vnd.jupyter.widget-view+json": {
       "model_id": "b2a5226eb1b84a0ebba80cb7e5811b81",
       "version_major": 2,
       "version_minor": 0
      },
      "text/plain": [
       "Drawing 1000 posterior samples:   0%|          | 0/1000 [00:00<?, ?it/s]"
      ]
     },
     "metadata": {},
     "output_type": "display_data"
    },
    {
     "data": {
      "application/vnd.jupyter.widget-view+json": {
       "model_id": "16374e9839c142f385405e7c9bde21ca",
       "version_major": 2,
       "version_minor": 0
      },
      "text/plain": [
       "Drawing 1000 posterior samples:   0%|          | 0/1000 [00:00<?, ?it/s]"
      ]
     },
     "metadata": {},
     "output_type": "display_data"
    },
    {
     "data": {
      "application/vnd.jupyter.widget-view+json": {
       "model_id": "1253346d60684b01b6db8f0e98949b7b",
       "version_major": 2,
       "version_minor": 0
      },
      "text/plain": [
       "Drawing 1000 posterior samples:   0%|          | 0/1000 [00:00<?, ?it/s]"
      ]
     },
     "metadata": {},
     "output_type": "display_data"
    },
    {
     "data": {
      "application/vnd.jupyter.widget-view+json": {
       "model_id": "138a302644a049c58d0a37432523edd1",
       "version_major": 2,
       "version_minor": 0
      },
      "text/plain": [
       "Drawing 1000 posterior samples:   0%|          | 0/1000 [00:00<?, ?it/s]"
      ]
     },
     "metadata": {},
     "output_type": "display_data"
    },
    {
     "data": {
      "application/vnd.jupyter.widget-view+json": {
       "model_id": "4b8e4e2594914a68845e87ada7d4257a",
       "version_major": 2,
       "version_minor": 0
      },
      "text/plain": [
       "Drawing 1000 posterior samples:   0%|          | 0/1000 [00:00<?, ?it/s]"
      ]
     },
     "metadata": {},
     "output_type": "display_data"
    },
    {
     "data": {
      "application/vnd.jupyter.widget-view+json": {
       "model_id": "28c98fa5ce5e4d17925267cffb60acc6",
       "version_major": 2,
       "version_minor": 0
      },
      "text/plain": [
       "Drawing 1000 posterior samples:   0%|          | 0/1000 [00:00<?, ?it/s]"
      ]
     },
     "metadata": {},
     "output_type": "display_data"
    },
    {
     "data": {
      "application/vnd.jupyter.widget-view+json": {
       "model_id": "d06cc113a766493d967fc888fb231e0d",
       "version_major": 2,
       "version_minor": 0
      },
      "text/plain": [
       "Drawing 1000 posterior samples:   0%|          | 0/1000 [00:00<?, ?it/s]"
      ]
     },
     "metadata": {},
     "output_type": "display_data"
    },
    {
     "data": {
      "application/vnd.jupyter.widget-view+json": {
       "model_id": "bbf913fc85024c2a8c79955748776db0",
       "version_major": 2,
       "version_minor": 0
      },
      "text/plain": [
       "Drawing 1000 posterior samples:   0%|          | 0/1000 [00:00<?, ?it/s]"
      ]
     },
     "metadata": {},
     "output_type": "display_data"
    },
    {
     "data": {
      "application/vnd.jupyter.widget-view+json": {
       "model_id": "46976d9097254eb699c5c44bcf0dc8d5",
       "version_major": 2,
       "version_minor": 0
      },
      "text/plain": [
       "Drawing 1000 posterior samples:   0%|          | 0/1000 [00:00<?, ?it/s]"
      ]
     },
     "metadata": {},
     "output_type": "display_data"
    },
    {
     "data": {
      "application/vnd.jupyter.widget-view+json": {
       "model_id": "116286aa8e3a4b0d8bbfca0bb375f1b2",
       "version_major": 2,
       "version_minor": 0
      },
      "text/plain": [
       "Drawing 1000 posterior samples:   0%|          | 0/1000 [00:00<?, ?it/s]"
      ]
     },
     "metadata": {},
     "output_type": "display_data"
    },
    {
     "data": {
      "application/vnd.jupyter.widget-view+json": {
       "model_id": "00912dbfa69d46cb9df603677b26bb11",
       "version_major": 2,
       "version_minor": 0
      },
      "text/plain": [
       "Drawing 1000 posterior samples:   0%|          | 0/1000 [00:00<?, ?it/s]"
      ]
     },
     "metadata": {},
     "output_type": "display_data"
    },
    {
     "data": {
      "application/vnd.jupyter.widget-view+json": {
       "model_id": "aea83ddea74a4676ad41e11f26f1b771",
       "version_major": 2,
       "version_minor": 0
      },
      "text/plain": [
       "Drawing 1000 posterior samples:   0%|          | 0/1000 [00:00<?, ?it/s]"
      ]
     },
     "metadata": {},
     "output_type": "display_data"
    },
    {
     "data": {
      "application/vnd.jupyter.widget-view+json": {
       "model_id": "c860d1c1abd84e0296df54eeed7c58aa",
       "version_major": 2,
       "version_minor": 0
      },
      "text/plain": [
       "Drawing 1000 posterior samples:   0%|          | 0/1000 [00:00<?, ?it/s]"
      ]
     },
     "metadata": {},
     "output_type": "display_data"
    },
    {
     "data": {
      "application/vnd.jupyter.widget-view+json": {
       "model_id": "6af6c7895bd7431ea28a6d26cf981dc2",
       "version_major": 2,
       "version_minor": 0
      },
      "text/plain": [
       "Drawing 1000 posterior samples:   0%|          | 0/1000 [00:00<?, ?it/s]"
      ]
     },
     "metadata": {},
     "output_type": "display_data"
    },
    {
     "name": "stdout",
     "output_type": "stream",
     "text": [
      "[array([[ 0.01500356,  0.96565366,  0.07740045, ...,  0.96760094,\n",
      "         0.9564146 , -0.831045  ],\n",
      "       [-0.15810871,  0.9791548 ,  0.9917021 , ...,  0.9460956 ,\n",
      "         0.8917315 , -0.2403841 ],\n",
      "       [ 0.2570052 ,  0.9989039 ,  0.9272219 , ...,  0.02694488,\n",
      "        -0.9983494 ,  0.10712314],\n",
      "       ...,\n",
      "       [ 0.9664165 , -0.833975  ,  0.42950308, ..., -0.20274997,\n",
      "         0.75395644,  0.9746871 ],\n",
      "       [ 0.8928093 ,  0.273412  , -0.88922745, ...,  0.777712  ,\n",
      "         0.96881735, -0.35210007],\n",
      "       [ 0.6670191 , -0.26224297, -0.98882866, ..., -0.51632535,\n",
      "        -0.7700566 , -0.7894536 ]], dtype=float32), array([[ 0.04501259,  0.43316245,  0.99497485, ...,  0.99666774,\n",
      "        -0.99456793, -0.9474864 ],\n",
      "       [ 0.8969239 , -0.926737  ,  0.9144107 , ...,  0.3151797 ,\n",
      "         0.99902344,  0.9703615 ],\n",
      "       [-0.2314812 , -0.09501493,  0.670601  , ...,  0.19535053,\n",
      "         0.20631409, -0.17420238],\n",
      "       ...,\n",
      "       [-0.4707852 , -0.42419064,  0.8659774 , ..., -0.35442746,\n",
      "        -0.9947294 ,  0.66868305],\n",
      "       [ 0.49420512,  0.4491228 , -0.3170185 , ..., -0.4674551 ,\n",
      "         0.8239845 , -0.31025672],\n",
      "       [-0.51547277,  0.9888421 ,  0.44427502, ...,  0.8944317 ,\n",
      "        -0.99449456, -0.98609936]], dtype=float32), array([[ 0.7163905 ,  0.9910251 , -0.93936133, ..., -0.12061852,\n",
      "         0.5485593 ,  0.56038094],\n",
      "       [ 0.89829814,  0.99982905,  0.05961502, ..., -0.7732285 ,\n",
      "        -0.33518672, -0.41880834],\n",
      "       [ 0.5133773 , -0.41883594, -0.82629234, ...,  0.28196144,\n",
      "         0.9875524 , -0.8720598 ],\n",
      "       ...,\n",
      "       [ 0.7162012 ,  0.99908257,  0.97056484, ...,  0.05554461,\n",
      "         0.9845365 ,  0.10768414],\n",
      "       [ 0.24023068,  0.74543905,  0.964689  , ...,  0.4023937 ,\n",
      "         0.38927758, -0.92240703],\n",
      "       [ 0.98553   ,  0.7580838 ,  0.97131944, ...,  0.18143296,\n",
      "        -0.3620593 , -0.63493043]], dtype=float32), array([[ 0.8657098 ,  0.9145191 ,  0.54861295, ..., -0.8059751 ,\n",
      "        -0.33981484,  0.9962677 ],\n",
      "       [-0.8693857 ,  0.80102825,  0.4510013 , ...,  0.6601894 ,\n",
      "         0.76113546,  0.5751622 ],\n",
      "       [-0.95849025,  0.3347925 ,  0.83973527, ...,  0.95810115,\n",
      "        -0.9989619 , -0.6809801 ],\n",
      "       ...,\n",
      "       [-0.19734979,  0.9943298 ,  0.9970033 , ...,  0.6104046 ,\n",
      "         0.17781913,  0.9928436 ],\n",
      "       [ 0.95098376, -0.6075296 ,  0.99899125, ...,  0.9259261 ,\n",
      "        -0.8172974 ,  0.23797786],\n",
      "       [-0.2968964 , -0.6320664 , -0.9059824 , ...,  0.25898683,\n",
      "        -0.62078965, -0.5737834 ]], dtype=float32), array([[ 0.3881756 , -0.8697206 ,  0.8643396 , ..., -0.34650576,\n",
      "         0.02929807,  0.745379  ],\n",
      "       [ 0.9177424 ,  0.9376385 ,  0.9423827 , ...,  0.8692248 ,\n",
      "        -0.38949132,  0.01693916],\n",
      "       [ 0.20480931,  0.5615566 ,  0.9893336 , ..., -0.6377311 ,\n",
      "         0.21595609, -0.9897722 ],\n",
      "       ...,\n",
      "       [ 0.9651325 ,  0.9412116 ,  0.9586139 , ...,  0.59001327,\n",
      "        -0.990798  ,  0.96801317],\n",
      "       [ 0.9261987 ,  0.99999857,  0.9594188 , ..., -0.6179904 ,\n",
      "        -0.3614809 ,  0.7746475 ],\n",
      "       [ 0.99157274,  0.99321973, -0.76429784, ...,  0.62463486,\n",
      "         0.7793274 ,  0.95199597]], dtype=float32), array([[ 0.59861875,  0.7015859 ,  0.37066352, ...,  0.27571297,\n",
      "        -0.9823603 ,  0.10620749],\n",
      "       [-0.12640554, -0.81376815, -0.8979086 , ..., -0.3402142 ,\n",
      "         0.865286  , -0.30398858],\n",
      "       [ 0.45942855,  0.9982506 ,  0.99991107, ...,  0.9362496 ,\n",
      "        -0.08050054,  0.8526274 ],\n",
      "       ...,\n",
      "       [ 0.9949151 ,  0.98828256, -0.8862555 , ..., -0.19020212,\n",
      "         0.7304872 , -0.8878145 ],\n",
      "       [-0.65275085, -0.79305404, -0.9154601 , ..., -0.95199203,\n",
      "        -0.7022743 ,  0.33052742],\n",
      "       [ 0.89579856,  0.65617085,  0.42476904, ..., -0.17080855,\n",
      "         0.30158973,  0.987481  ]], dtype=float32), array([[ 0.6625416 ,  0.89284325,  0.89866126, ...,  0.7188022 ,\n",
      "         0.29856884,  0.45073342],\n",
      "       [-0.5817178 , -0.71302605, -0.17164737, ...,  0.9916357 ,\n",
      "         0.7788973 ,  0.64068913],\n",
      "       [ 0.71292603,  0.8919312 , -0.58558834, ..., -0.5940027 ,\n",
      "         0.57138705,  0.9947531 ],\n",
      "       ...,\n",
      "       [ 0.9334023 ,  0.9360839 ,  0.99662924, ..., -0.3646829 ,\n",
      "        -0.18001318,  0.03009796],\n",
      "       [ 0.8742174 ,  0.23889649,  0.98960185, ...,  0.31623125,\n",
      "         0.01727498,  0.20590258],\n",
      "       [ 0.59590876,  0.09033847, -0.9997973 , ...,  0.26119196,\n",
      "        -0.4746778 ,  0.99369514]], dtype=float32), array([[ 0.82275736,  0.9972917 ,  0.21862113, ..., -0.7925383 ,\n",
      "         0.8517381 ,  0.9966748 ],\n",
      "       [-0.19285327,  0.46262336,  0.9178417 , ...,  0.36662745,\n",
      "         0.96326196,  0.9774151 ],\n",
      "       [-0.4242854 ,  0.9991025 ,  0.9994606 , ...,  0.29732347,\n",
      "         0.08091247,  0.8659129 ],\n",
      "       ...,\n",
      "       [ 0.9907123 ,  0.85007024, -0.01014143, ...,  0.69630945,\n",
      "        -0.90999   ,  0.99503016],\n",
      "       [-0.83823943, -0.01728505,  0.9789218 , ...,  0.7051871 ,\n",
      "         0.3080088 , -0.5293671 ],\n",
      "       [ 0.9174496 ,  0.9985162 ,  0.5039531 , ..., -0.5028666 ,\n",
      "         0.42924976,  0.714358  ]], dtype=float32), array([[-0.9720913 , -0.70140487,  0.98961294, ...,  0.65053487,\n",
      "        -0.8394351 , -0.2955475 ],\n",
      "       [ 0.9491888 ,  0.98748386,  0.99449813, ..., -0.6603781 ,\n",
      "         0.44009185,  0.8062123 ],\n",
      "       [ 0.5944555 ,  0.99807024,  0.34446156, ..., -0.76496094,\n",
      "        -0.52070475,  0.2734928 ],\n",
      "       ...,\n",
      "       [ 0.7069738 ,  0.82744765,  0.9016267 , ...,  0.4147631 ,\n",
      "         0.7545173 ,  0.67717564],\n",
      "       [ 0.8633169 , -0.9725606 ,  0.80796254, ..., -0.44647676,\n",
      "         0.31197476,  0.965274  ],\n",
      "       [ 0.4587593 ,  0.20370245,  0.81673884, ...,  0.02283823,\n",
      "         0.98074746, -0.15717351]], dtype=float32), array([[ 0.1170094 ,  0.99588454,  0.961781  , ..., -0.75829375,\n",
      "         0.30716753,  0.8998567 ],\n",
      "       [-0.2102086 ,  0.98795915,  0.9351603 , ..., -0.22637022,\n",
      "         0.99545944,  0.9714316 ],\n",
      "       [ 0.97192216,  0.8285006 ,  0.877211  , ..., -0.3681212 ,\n",
      "         0.9892664 ,  0.56841314],\n",
      "       ...,\n",
      "       [-0.9920607 ,  0.691254  ,  0.10238349, ...,  0.04868698,\n",
      "         0.16252065,  0.60642457],\n",
      "       [ 0.5962095 ,  0.88884306,  0.99379826, ...,  0.82431436,\n",
      "         0.9195212 ,  0.96833205],\n",
      "       [-0.25753188,  0.99629307,  0.75143456, ...,  0.58133423,\n",
      "        -0.02574188,  0.9994482 ]], dtype=float32), array([[-0.93607104,  0.9956267 , -0.80185497, ..., -0.97068864,\n",
      "        -0.69388616,  0.92451084],\n",
      "       [-0.8681995 ,  0.87540233,  0.6737199 , ...,  0.9739654 ,\n",
      "         0.52544534,  0.97519255],\n",
      "       [-0.31174427,  0.9975333 ,  0.9943861 , ...,  0.53661513,\n",
      "         0.0462178 ,  0.9956796 ],\n",
      "       ...,\n",
      "       [ 0.9245082 ,  0.9976605 ,  0.999933  , ...,  0.177724  ,\n",
      "         0.9502512 ,  0.987867  ],\n",
      "       [ 0.56468534,  0.9947151 ,  0.9982563 , ..., -0.4887941 ,\n",
      "         0.90925467,  0.9945413 ],\n",
      "       [ 0.99969864,  0.98551965, -0.5886885 , ...,  0.66769505,\n",
      "        -0.06866521,  0.9464711 ]], dtype=float32), array([[-0.9731589 , -0.20142007,  0.9979857 , ..., -0.22724658,\n",
      "        -0.8333615 ,  0.38071167],\n",
      "       [-0.6386303 ,  0.4773215 ,  0.9847988 , ..., -0.10809493,\n",
      "        -0.7939335 ,  0.69884396],\n",
      "       [ 0.99982977, -0.34577638,  0.92571676, ..., -0.86559045,\n",
      "         0.91477275,  0.00467336],\n",
      "       ...,\n",
      "       [-0.5481988 ,  0.9955448 ,  0.979054  , ...,  0.2862085 ,\n",
      "         0.8862697 ,  0.5262487 ],\n",
      "       [ 0.9683981 ,  0.99062824,  0.96876   , ...,  0.38743615,\n",
      "         0.9013423 ,  0.9738245 ],\n",
      "       [ 0.9893693 ,  0.99802876,  0.9997144 , ..., -0.39226925,\n",
      "         0.98279524,  0.96488047]], dtype=float32), array([[ 0.98431396,  0.40320826,  0.2784642 , ...,  0.94567716,\n",
      "        -0.9295851 ,  0.56391287],\n",
      "       [-0.05843818,  0.8432573 ,  0.9923215 , ..., -0.9691161 ,\n",
      "         0.7086487 ,  0.99418473],\n",
      "       [ 0.94181776,  0.99543524, -0.36463118, ..., -0.6706741 ,\n",
      "         0.75892663,  0.99099565],\n",
      "       ...,\n",
      "       [ 0.9762455 ,  0.91113126,  0.97935486, ...,  0.49445677,\n",
      "         0.8064947 ,  0.9287994 ],\n",
      "       [ 0.8003541 ,  0.98363924,  0.9969182 , ...,  0.93095934,\n",
      "         0.9595227 ,  0.7385001 ],\n",
      "       [-0.9482392 ,  0.9203335 ,  0.9879346 , ...,  0.48208392,\n",
      "         0.5056788 ,  0.972134  ]], dtype=float32), array([[-0.9892897 ,  0.5182338 ,  0.9526198 , ...,  0.5941545 ,\n",
      "        -0.8716624 ,  0.9343784 ],\n",
      "       [-0.9523703 ,  0.97525084,  0.9980259 , ..., -0.5348817 ,\n",
      "        -0.8483275 ,  0.9644129 ],\n",
      "       [ 0.94954896,  0.9978782 ,  0.9958352 , ..., -0.21033823,\n",
      "         0.98278403,  0.63820744],\n",
      "       ...,\n",
      "       [ 0.7077215 ,  0.99945104,  0.9998627 , ..., -0.18462288,\n",
      "         0.9907353 ,  0.6095884 ],\n",
      "       [ 0.70189106,  0.99911773,  0.8189007 , ...,  0.4579159 ,\n",
      "         0.8556186 ,  0.87612057],\n",
      "       [ 0.99989223,  0.98421896,  0.16659129, ..., -0.33062124,\n",
      "         0.976547  ,  0.99527836]], dtype=float32), array([[ 0.99752855,  0.87948024,  0.9173069 , ...,  0.50796545,\n",
      "         0.96048653,  0.6801301 ],\n",
      "       [-0.7098105 , -0.8299645 ,  0.6290232 , ..., -0.8918292 ,\n",
      "         0.758034  ,  0.47223103],\n",
      "       [ 0.81321836,  0.9642941 ,  0.7535113 , ...,  0.609316  ,\n",
      "         0.6677799 ,  0.9709135 ],\n",
      "       ...,\n",
      "       [ 0.95747375,  0.975965  ,  0.95270205, ...,  0.66554046,\n",
      "         0.9979496 ,  0.6507981 ],\n",
      "       [-0.536227  ,  0.9892496 ,  0.82490647, ...,  0.9789895 ,\n",
      "         0.8471825 ,  0.9993038 ],\n",
      "       [ 0.99868405,  0.9742154 ,  0.943653  , ..., -0.77104145,\n",
      "         0.94646084,  0.96423244]], dtype=float32), array([[ 0.8818755 ,  0.8666848 ,  0.9957576 , ..., -0.7626522 ,\n",
      "         0.79958534,  0.9765264 ],\n",
      "       [ 0.9182197 ,  0.9906982 ,  0.74437344, ...,  0.84219503,\n",
      "        -0.42465425,  0.8670379 ],\n",
      "       [ 0.9998615 ,  0.9945204 ,  0.9726082 , ...,  0.42245162,\n",
      "         0.98949707,  0.62367857],\n",
      "       ...,\n",
      "       [-0.9981992 ,  0.9982532 ,  0.9954039 , ...,  0.9412749 ,\n",
      "        -0.9700916 ,  0.9739022 ],\n",
      "       [ 0.9789531 ,  0.60740805,  0.94133866, ...,  0.3538785 ,\n",
      "         0.3872155 ,  0.86689734],\n",
      "       [ 0.9993005 ,  0.97745955,  0.94608855, ...,  0.39283645,\n",
      "         0.9853827 , -0.09366542]], dtype=float32), array([[ 0.8228086 ,  0.94833183, -0.55261964, ...,  0.6047931 ,\n",
      "        -0.58769166,  0.9925982 ],\n",
      "       [ 0.90423703,  0.99718416,  0.9981849 , ..., -0.6661453 ,\n",
      "         0.8019922 ,  0.93423295],\n",
      "       [-0.9511505 ,  0.8831028 ,  0.73380303, ...,  0.80297554,\n",
      "        -0.3905583 ,  0.8168887 ],\n",
      "       ...,\n",
      "       [ 0.8448659 ,  0.94368565,  0.96836925, ..., -0.65566367,\n",
      "         0.7738154 ,  0.14261496],\n",
      "       [ 0.99979067,  0.9949044 ,  0.992066  , ..., -0.60739595,\n",
      "         0.9459784 ,  0.81533015],\n",
      "       [ 0.9994079 ,  0.9843415 ,  0.99035573, ...,  0.67931354,\n",
      "         0.49563587,  0.72390413]], dtype=float32), array([[ 0.9993131 ,  0.03994477,  0.97690344, ..., -0.6750032 ,\n",
      "         0.29447734,  0.9649923 ],\n",
      "       [ 0.4509226 ,  0.88560104,  0.99576294, ..., -0.41781676,\n",
      "         0.9684304 ,  0.89610744],\n",
      "       [ 0.21733284,  0.99468076,  0.7963997 , ...,  0.8035376 ,\n",
      "        -0.60727996,  0.98224735],\n",
      "       ...,\n",
      "       [-0.394948  ,  0.98327434,  0.9663303 , ...,  0.30610085,\n",
      "         0.7676419 ,  0.9802481 ],\n",
      "       [ 0.16149628,  0.98009336,  0.9978013 , ...,  0.704435  ,\n",
      "         0.8222933 ,  0.9952781 ],\n",
      "       [-0.98242694,  0.9101    ,  0.9957622 , ...,  0.59280324,\n",
      "        -0.9079119 ,  0.9550376 ]], dtype=float32), array([[ 0.5869926 ,  0.995646  ,  0.9981954 , ...,  0.5780977 ,\n",
      "         0.7972714 ,  0.9958725 ],\n",
      "       [ 0.87573636,  0.9859495 ,  0.99218166, ..., -0.32708716,\n",
      "         0.8044325 ,  0.9799595 ],\n",
      "       [ 0.92658734,  0.9636774 ,  0.99935436, ...,  0.9527526 ,\n",
      "         0.97980106,  0.39970565],\n",
      "       ...,\n",
      "       [ 0.70203876,  0.8120549 ,  0.98884237, ..., -0.22561097,\n",
      "         0.9155867 ,  0.9650266 ],\n",
      "       [-0.6405951 ,  0.9707545 ,  0.986683  , ...,  0.91034186,\n",
      "         0.8263581 ,  0.9802846 ],\n",
      "       [ 0.9571997 ,  0.99667954,  0.99992824, ...,  0.92189264,\n",
      "         0.99991965,  0.6165639 ]], dtype=float32), array([[ 0.9898702 ,  0.9932245 ,  0.84987664, ..., -0.8583913 ,\n",
      "         0.98544514,  0.72987485],\n",
      "       [ 0.99683285,  0.9911244 ,  0.9706496 , ...,  0.5521554 ,\n",
      "         0.8129313 ,  0.7048826 ],\n",
      "       [ 0.78124845,  0.9969108 ,  0.9842807 , ...,  0.8666462 ,\n",
      "         0.9156543 ,  0.85847425],\n",
      "       ...,\n",
      "       [ 0.40947795,  0.99659073,  0.9938818 , ...,  0.5690944 ,\n",
      "         0.8585304 ,  0.8151212 ],\n",
      "       [-0.94612217,  0.97073483,  0.9002905 , ...,  0.8431306 ,\n",
      "        -0.42189956,  0.9851726 ],\n",
      "       [-0.9897756 ,  0.73686624,  0.02120018, ...,  0.37294555,\n",
      "         0.25020325,  0.8972416 ]], dtype=float32), array([[-0.699735  ,  0.95793617,  0.9925194 , ...,  0.5256965 ,\n",
      "        -0.9996882 ,  0.97724676],\n",
      "       [ 0.25983858,  0.9967015 ,  0.933619  , ...,  0.7583678 ,\n",
      "        -0.73695195,  0.99985456],\n",
      "       [ 0.8462417 ,  0.9914061 ,  0.99743104, ..., -0.25425392,\n",
      "         0.9593847 ,  0.95175385],\n",
      "       ...,\n",
      "       [ 0.9869242 ,  0.98436284,  0.96859396, ...,  0.60466003,\n",
      "         0.9629029 ,  0.90614176],\n",
      "       [ 0.85707426,  0.9933983 ,  0.96071744, ...,  0.7442099 ,\n",
      "         0.7237338 ,  0.87609684],\n",
      "       [ 0.82526314,  0.9985393 ,  0.9458864 , ...,  0.66155314,\n",
      "         0.65977156,  0.98961294]], dtype=float32), array([[ 0.91005754,  0.75708735,  0.86127186, ...,  0.0856092 ,\n",
      "         0.97957957,  0.96119785],\n",
      "       [ 0.997578  ,  0.9754071 ,  0.90180504, ...,  0.0119133 ,\n",
      "         0.99092066,  0.85611033],\n",
      "       [-0.3408991 ,  0.9985802 ,  0.9950036 , ...,  0.94233906,\n",
      "        -0.3054101 ,  0.9951521 ],\n",
      "       ...,\n",
      "       [ 0.4028641 ,  0.9783256 ,  0.9981966 , ...,  0.81066453,\n",
      "         0.8428621 ,  0.9973278 ],\n",
      "       [ 0.25179434,  0.9816276 ,  0.9472401 , ..., -0.18010968,\n",
      "         0.9427304 ,  0.9767746 ],\n",
      "       [-0.2687583 ,  0.9355103 ,  0.86848617, ..., -0.35379916,\n",
      "         0.21516955,  0.76269305]], dtype=float32), array([[ 0.72593   ,  0.9824469 ,  0.99481833, ...,  0.3330747 ,\n",
      "         0.9852791 ,  0.9569694 ],\n",
      "       [ 0.46501648,  0.9966867 ,  0.9943981 , ..., -0.00756621,\n",
      "         0.6640837 ,  0.9916744 ],\n",
      "       [ 0.5086725 ,  0.9895195 ,  0.99858904, ...,  0.9870136 ,\n",
      "        -0.9449477 ,  0.9987731 ],\n",
      "       ...,\n",
      "       [ 0.8746289 ,  0.9410993 ,  0.97238946, ...,  0.1417352 ,\n",
      "         0.97847605,  0.76850593],\n",
      "       [-0.14513081,  0.9721087 ,  0.9604386 , ...,  0.9998126 ,\n",
      "         0.76495135,  0.8724114 ],\n",
      "       [ 0.9956789 , -0.15267664,  0.9505075 , ..., -0.6681466 ,\n",
      "         0.9192964 ,  0.9437877 ]], dtype=float32), array([[ 0.9997463 ,  0.98973095,  0.97774863, ...,  0.56615615,\n",
      "         0.9826373 ,  0.7555568 ],\n",
      "       [ 0.8412205 ,  0.9681288 ,  0.97781134, ...,  0.9134035 ,\n",
      "         0.86217284,  0.99132216],\n",
      "       [-0.5361338 ,  0.997481  ,  0.98336303, ...,  0.8133961 ,\n",
      "        -0.34665376,  0.97841823],\n",
      "       ...,\n",
      "       [ 0.9032799 ,  0.9778825 ,  0.95438087, ..., -0.2884422 ,\n",
      "         0.94152606,  0.75599587],\n",
      "       [ 0.89960563,  0.9806721 ,  0.99853146, ..., -0.57024354,\n",
      "         0.9539089 ,  0.823619  ],\n",
      "       [ 0.74082804,  0.9991387 ,  0.96595705, ..., -0.4838912 ,\n",
      "         0.9514004 ,  0.99533975]], dtype=float32), array([[ 0.9979582 ,  0.7917441 ,  0.6009214 , ..., -0.17697114,\n",
      "         0.585881  ,  0.9564557 ],\n",
      "       [ 0.43547118,  0.99268806,  0.9768815 , ..., -0.03456932,\n",
      "         0.581844  ,  0.79337895],\n",
      "       [ 0.7184653 ,  0.99867547,  0.9766474 , ..., -0.16992283,\n",
      "         0.9575598 ,  0.8035778 ],\n",
      "       ...,\n",
      "       [ 0.98623073,  0.99294496,  0.59432864, ..., -0.51754725,\n",
      "         0.9568372 ,  0.76099503],\n",
      "       [-0.8646259 ,  0.99511194,  0.6559477 , ..., -0.4626183 ,\n",
      "         0.25249946,  0.9421805 ],\n",
      "       [-0.99857926,  0.85304713,  0.9902483 , ...,  0.9658096 ,\n",
      "        -0.9987086 ,  0.8713684 ]], dtype=float32), array([[ 0.9163182 ,  0.97552073,  0.9920126 , ..., -0.79079807,\n",
      "         0.9410188 ,  0.87501144],\n",
      "       [-0.2435937 ,  0.9908272 ,  0.96306944, ...,  0.4279921 ,\n",
      "         0.6971705 ,  0.92767954],\n",
      "       [ 0.22512388,  0.9973142 ,  0.9966209 , ...,  0.28788662,\n",
      "         0.6922276 ,  0.99947274],\n",
      "       ...,\n",
      "       [ 0.9841664 ,  0.99981093,  0.98611355, ...,  0.5186111 ,\n",
      "         0.9642211 ,  0.8817569 ],\n",
      "       [-0.8023466 ,  0.9317452 ,  0.7960726 , ..., -0.58332646,\n",
      "         0.2698182 ,  0.9765738 ],\n",
      "       [ 0.66120374,  0.9922929 ,  0.98439777, ...,  0.6749321 ,\n",
      "         0.12466156,  0.9963244 ]], dtype=float32), array([[ 0.3328886 ,  0.98566675,  0.9971062 , ..., -0.6170949 ,\n",
      "         0.9516306 ,  0.8962463 ],\n",
      "       [ 0.9404626 ,  0.9724915 ,  0.9851116 , ...,  0.5081911 ,\n",
      "         0.9806539 ,  0.9316902 ],\n",
      "       [ 0.9848943 ,  0.99842525,  0.99394584, ...,  0.2637303 ,\n",
      "         0.94101846,  0.86995363],\n",
      "       ...,\n",
      "       [ 0.9254854 ,  0.9932605 ,  0.9983263 , ..., -0.10357296,\n",
      "         0.37074673,  0.70907366],\n",
      "       [ 0.9766637 ,  0.99762225,  0.81116676, ...,  0.5796279 ,\n",
      "         0.9490267 ,  0.88381577],\n",
      "       [ 0.5835494 ,  0.999053  ,  0.9916285 , ...,  0.10981345,\n",
      "         0.40250528,  0.9539889 ]], dtype=float32), array([[ 0.893626  ,  0.9752127 ,  0.98123443, ..., -0.19309348,\n",
      "         0.95079184,  0.9427525 ],\n",
      "       [-0.66258746,  0.9983789 ,  0.99159265, ...,  0.809165  ,\n",
      "         0.07292581,  0.9372457 ],\n",
      "       [ 0.99655366,  0.98399365,  0.8503057 , ..., -0.22262853,\n",
      "         0.11426771,  0.9788182 ],\n",
      "       ...,\n",
      "       [ 0.99390197,  0.9825624 ,  0.98190093, ...,  0.51290154,\n",
      "         0.9869561 ,  0.96004355],\n",
      "       [ 0.65595543,  0.9535488 ,  0.9955318 , ...,  0.32143903,\n",
      "         0.9818336 ,  0.8757986 ],\n",
      "       [ 0.94090116,  0.98501194,  0.97509646, ...,  0.15939748,\n",
      "         0.9846828 ,  0.8315636 ]], dtype=float32), array([[ 0.9954839 ,  0.97891223,  0.6002102 , ..., -0.5944186 ,\n",
      "         0.9806453 ,  0.73038054],\n",
      "       [ 0.9478376 ,  0.46456718,  0.79938257, ..., -0.10731095,\n",
      "         0.93949735,  0.9971794 ],\n",
      "       [-0.90616685,  0.9980657 ,  0.54671395, ...,  0.71304977,\n",
      "        -0.6933928 ,  0.9371685 ],\n",
      "       ...,\n",
      "       [ 0.9680878 ,  0.9776679 , -0.9923978 , ...,  0.8620937 ,\n",
      "        -0.6038479 ,  0.5159955 ],\n",
      "       [-0.58877784,  0.6769924 ,  0.95183456, ..., -0.7746984 ,\n",
      "         0.04677868,  0.9989408 ],\n",
      "       [-0.6483915 ,  0.98000216,  0.91832244, ...,  0.9868882 ,\n",
      "        -0.9917939 ,  0.99041104]], dtype=float32), array([[ 0.8475555 ,  0.9951016 ,  0.9965482 , ..., -0.34543908,\n",
      "         0.9346887 ,  0.893232  ],\n",
      "       [-0.25014603,  0.9973663 ,  0.90644944, ...,  0.92320263,\n",
      "         0.30413413,  0.9003955 ],\n",
      "       [ 0.986634  ,  0.9889704 ,  0.97998774, ...,  0.7904167 ,\n",
      "         0.9991168 ,  0.63280845],\n",
      "       ...,\n",
      "       [-0.76898265,  0.9743116 ,  0.98467433, ...,  0.7409564 ,\n",
      "        -0.6662077 ,  0.90653884],\n",
      "       [ 0.99652207,  0.99997425,  0.98963773, ..., -0.8679316 ,\n",
      "         0.9859749 ,  0.6089884 ],\n",
      "       [ 0.06795919,  0.99979424,  0.9933411 , ...,  0.5863782 ,\n",
      "         0.39841747,  0.99344146]], dtype=float32), array([[ 0.9107387 ,  0.72063243,  0.99439096, ..., -0.15876788,\n",
      "         0.890784  ,  0.6079681 ],\n",
      "       [ 0.993852  ,  0.85171425,  0.9983555 , ..., -0.6030539 ,\n",
      "         0.9417919 ,  0.39634693],\n",
      "       [ 0.9753362 ,  0.99953544,  0.9874147 , ..., -0.7726004 ,\n",
      "         0.9859928 ,  0.47740996],\n",
      "       ...,\n",
      "       [ 0.8894206 ,  0.9934727 ,  0.9803163 , ...,  0.5257374 ,\n",
      "         0.9819195 ,  0.9272876 ],\n",
      "       [ 0.98032916,  0.9837282 ,  0.99221885, ..., -0.29077572,\n",
      "         0.9519907 ,  0.8866502 ],\n",
      "       [ 0.9776701 ,  0.58432376,  0.8886895 , ..., -0.7253763 ,\n",
      "         0.53187335,  0.81984925]], dtype=float32), array([[ 0.9643724 ,  0.9579327 ,  0.97712266, ..., -0.12476695,\n",
      "         0.98869765,  0.621104  ],\n",
      "       [ 0.9144175 ,  0.9851216 ,  0.7688557 , ..., -0.68830645,\n",
      "         0.95416415,  0.88405836],\n",
      "       [-0.20976937,  0.9708991 ,  0.94421875, ...,  0.3244151 ,\n",
      "        -0.2905801 ,  0.95991397],\n",
      "       ...,\n",
      "       [ 0.98755646,  0.9980947 ,  0.862535  , ..., -0.32152337,\n",
      "         0.9981761 ,  0.88881016],\n",
      "       [-0.7423286 ,  0.98387337,  0.99808824, ...,  0.8946285 ,\n",
      "        -0.8533049 ,  0.57917726],\n",
      "       [ 0.8104718 ,  0.9874331 ,  0.9899533 , ...,  0.3845321 ,\n",
      "         0.47771442,  0.92810357]], dtype=float32), array([[ 0.84243953,  0.7906047 ,  0.9714564 , ..., -0.6678715 ,\n",
      "         0.8455548 ,  0.7177006 ],\n",
      "       [-0.94471455,  0.9992238 ,  0.9583727 , ...,  0.93854415,\n",
      "        -0.6343753 ,  0.9494387 ],\n",
      "       [-0.8491592 ,  0.9939002 ,  0.7837455 , ...,  0.8770715 ,\n",
      "        -0.88142127,  0.94529927],\n",
      "       ...,\n",
      "       [ 0.82274246,  0.9818888 ,  0.9905801 , ..., -0.59081614,\n",
      "         0.9553076 ,  0.9894959 ],\n",
      "       [ 0.1509496 ,  0.9964659 ,  0.88782966, ...,  0.92552423,\n",
      "         0.6316049 ,  0.894786  ],\n",
      "       [ 0.5964687 ,  0.98321104,  0.99941695, ..., -0.5997432 ,\n",
      "         0.88494325,  0.81877875]], dtype=float32), array([[ 0.95177996,  0.9988537 ,  0.87642586, ..., -0.6956868 ,\n",
      "         0.96337616,  0.7246573 ],\n",
      "       [-0.26218873,  0.999063  ,  0.9203106 , ...,  0.9327098 ,\n",
      "         0.9931114 ,  0.91584194],\n",
      "       [-0.4711107 ,  0.9629142 ,  0.94915307, ..., -0.55467474,\n",
      "         0.8329104 ,  0.7970779 ],\n",
      "       ...,\n",
      "       [ 0.9700149 ,  0.9485613 ,  0.63091874, ..., -0.38108748,\n",
      "         0.9536239 ,  0.9847995 ],\n",
      "       [-0.06923282,  0.96383095,  0.9990597 , ...,  0.9687016 ,\n",
      "         0.8512728 ,  0.96073925],\n",
      "       [ 0.9650825 ,  0.99251604,  0.9906663 , ...,  0.6148573 ,\n",
      "         0.9773134 ,  0.97541666]], dtype=float32), array([[ 0.8388531 ,  0.9278592 ,  0.9952563 , ...,  0.501367  ,\n",
      "         0.9720653 ,  0.962996  ],\n",
      "       [ 0.98125005,  0.99691916,  0.993603  , ...,  0.44285583,\n",
      "         0.96249795,  0.5669564 ],\n",
      "       [ 0.9288548 ,  0.9925209 ,  0.995088  , ..., -0.2281642 ,\n",
      "         0.9768195 ,  0.47793186],\n",
      "       ...,\n",
      "       [-0.98040646,  0.97522485,  0.41954494, ...,  0.743747  ,\n",
      "        -0.26728255,  0.896834  ],\n",
      "       [ 0.99980664,  0.99257994,  0.99380505, ...,  0.5430516 ,\n",
      "         0.87098503,  0.69794166],\n",
      "       [-0.9939053 ,  0.92289245,  0.98786044, ...,  0.8330809 ,\n",
      "        -0.38211507,  0.9261676 ]], dtype=float32), array([[ 0.73143756,  0.9947932 ,  0.99047375, ...,  0.3452953 ,\n",
      "         0.9753611 ,  0.88101256],\n",
      "       [-0.36326075,  0.99072814,  0.99702704, ...,  0.83887553,\n",
      "         0.9874269 ,  0.89276147],\n",
      "       [ 0.78033304,  0.97255945,  0.99657047, ...,  0.3259889 ,\n",
      "         0.9549296 ,  0.88048613],\n",
      "       ...,\n",
      "       [ 0.15696692,  0.9930408 ,  0.9745828 , ...,  0.9976866 ,\n",
      "         0.8818054 ,  0.9412111 ],\n",
      "       [-0.8234513 ,  0.9829942 ,  0.9866395 , ...,  0.9124994 ,\n",
      "        -0.78374827,  0.95117533],\n",
      "       [ 0.9992564 ,  0.11166763,  0.99333775, ..., -0.5238801 ,\n",
      "         0.83946204,  0.65313125]], dtype=float32), array([[ 0.99980927,  0.9991206 ,  0.9442122 , ..., -0.27153933,\n",
      "         0.91719675,  0.8487402 ],\n",
      "       [ 0.92765856,  0.99736774,  0.99427414, ..., -0.32878816,\n",
      "         0.9808761 ,  0.6385218 ],\n",
      "       [ 0.97850454,  0.99718297,  0.96920145, ...,  0.06902373,\n",
      "         0.9503329 ,  0.75626826],\n",
      "       ...,\n",
      "       [ 0.32848418,  0.96932435,  0.99832463, ..., -0.95385826,\n",
      "         0.8701458 ,  0.64291286],\n",
      "       [-0.9197713 ,  0.9785962 ,  0.97671866, ...,  0.8879788 ,\n",
      "        -0.99864304,  0.76916194],\n",
      "       [ 0.98857486, -0.20275152,  0.98126626, ...,  0.38740408,\n",
      "         0.9938921 ,  0.76844835]], dtype=float32), array([[ 0.15599453,  0.99852693,  0.95730495, ...,  0.70072734,\n",
      "        -0.09854776,  0.9978858 ],\n",
      "       [ 0.54218376,  0.9753332 ,  0.94125986, ..., -0.87104356,\n",
      "         0.9662298 ,  0.9906051 ],\n",
      "       [ 0.89806175,  0.9785472 ,  0.9815197 , ...,  0.8176712 ,\n",
      "         0.9927325 ,  0.98914564],\n",
      "       ...,\n",
      "       [ 0.9928973 ,  0.99835384,  0.99539316, ...,  0.67286396,\n",
      "         0.92540824,  0.7674365 ],\n",
      "       [ 0.9860753 ,  0.989511  ,  0.994884  , ...,  0.08262563,\n",
      "         0.9856503 ,  0.66825044],\n",
      "       [ 0.74359083,  0.9223926 ,  0.97911537, ...,  0.24580204,\n",
      "         0.8372297 ,  0.94278693]], dtype=float32), array([[ 0.33552945,  0.99624   ,  0.9584166 , ..., -0.12881875,\n",
      "         0.9482368 ,  0.9681021 ],\n",
      "       [ 0.31000602,  0.9130889 ,  0.98183775, ...,  0.55654275,\n",
      "         0.06387591,  0.9373021 ],\n",
      "       [-0.9867583 ,  0.9832237 ,  0.99768126, ...,  0.72349775,\n",
      "        -0.9596371 ,  0.84503293],\n",
      "       ...,\n",
      "       [ 0.9424385 ,  0.9389403 ,  0.75140035, ..., -0.4800871 ,\n",
      "         0.9920869 ,  0.68347037],\n",
      "       [ 0.94785976,  0.9859688 ,  0.9476603 , ..., -0.21539319,\n",
      "         0.97410154,  0.7999673 ],\n",
      "       [ 0.84109974,  0.9980643 ,  0.9832932 , ..., -0.48221654,\n",
      "         0.9808214 ,  0.80912423]], dtype=float32), array([[ 0.98926497,  0.9972731 ,  0.98525953, ..., -0.78070855,\n",
      "         0.9218546 ,  0.7699778 ],\n",
      "       [ 0.90548325,  0.99617195,  0.98525155, ..., -0.50025916,\n",
      "         0.9740447 ,  0.96631217],\n",
      "       [ 0.32400656,  0.98768735,  0.99197006, ...,  0.35627007,\n",
      "         0.987136  ,  0.9962692 ],\n",
      "       ...,\n",
      "       [-0.6444503 ,  0.99675775,  0.9917364 , ...,  0.9305488 ,\n",
      "        -0.66299015,  0.9226192 ],\n",
      "       [-0.7978567 ,  0.99666584,  0.9751667 , ...,  0.8672644 ,\n",
      "        -0.7377515 ,  0.9102552 ],\n",
      "       [ 0.48367178,  0.99248147,  0.9899976 , ...,  0.3010975 ,\n",
      "         0.89548385,  0.97119236]], dtype=float32), array([[ 0.2783079 ,  0.9864483 ,  0.947649  , ..., -0.5628134 ,\n",
      "         0.56783485,  0.997965  ],\n",
      "       [ 0.8986268 ,  0.9984338 ,  0.96882725, ..., -0.941762  ,\n",
      "         0.9177463 ,  0.77013004],\n",
      "       [ 0.8983954 ,  0.99750066,  0.9960042 , ..., -0.73386204,\n",
      "         0.99162364,  0.99374986],\n",
      "       ...,\n",
      "       [ 0.81422865,  0.88605654,  0.9924618 , ..., -0.8609809 ,\n",
      "         0.88752556,  0.75274265],\n",
      "       [ 0.9334415 ,  0.9906467 ,  0.99246895, ..., -0.17031336,\n",
      "         0.9203659 ,  0.7096889 ],\n",
      "       [ 0.99024904,  0.99552226,  0.9737233 , ...,  0.44993305,\n",
      "         0.92516434,  0.8793038 ]], dtype=float32), array([[ 0.9846482 ,  0.96466994,  0.99382854, ...,  0.62074196,\n",
      "         0.9066334 ,  0.772815  ],\n",
      "       [ 0.15832567,  0.8072505 ,  0.99779415, ..., -0.9956374 ,\n",
      "         0.40434647,  0.9570724 ],\n",
      "       [ 0.9997146 ,  0.99511933,  0.97758365, ...,  0.49306417,\n",
      "         0.9602395 ,  0.78835845],\n",
      "       ...,\n",
      "       [ 0.841324  ,  0.9975014 ,  0.8713174 , ..., -0.89167345,\n",
      "         0.9085798 ,  0.728071  ],\n",
      "       [ 0.9987583 ,  0.9971471 ,  0.99420965, ...,  0.20042574,\n",
      "         0.85167456,  0.5514957 ],\n",
      "       [ 0.847093  ,  0.9996463 ,  0.7883649 , ..., -0.53110397,\n",
      "         0.9288939 ,  0.81884134]], dtype=float32), array([[ 0.999383  ,  0.95642304,  0.99637544, ...,  0.5207021 ,\n",
      "         0.79830885,  0.70084023],\n",
      "       [ 0.9929155 ,  0.83815217,  0.9425795 , ..., -0.53088486,\n",
      "         0.9535217 ,  0.677439  ],\n",
      "       [ 0.9966017 ,  0.98826754,  0.99855316, ...,  0.6310493 ,\n",
      "         0.9635508 ,  0.7136878 ],\n",
      "       ...,\n",
      "       [-0.7235271 ,  0.99646544,  0.9854106 , ...,  0.91951156,\n",
      "         0.20241988,  0.98245955],\n",
      "       [ 0.48395717,  0.99452806,  0.9992707 , ..., -0.36317825,\n",
      "         0.8617847 ,  0.83991826],\n",
      "       [ 0.97543   ,  0.99711406,  0.9518175 , ...,  0.06238699,\n",
      "         0.998152  ,  0.8039988 ]], dtype=float32), array([[ 0.5396434 ,  0.99884033,  0.9980731 , ...,  0.21055698,\n",
      "         0.9613118 ,  0.98313534],\n",
      "       [ 0.90598464,  0.9226948 ,  0.98948014, ..., -0.09134662,\n",
      "         0.860587  ,  0.8532076 ],\n",
      "       [ 0.9972544 ,  0.99279034,  0.9960028 , ...,  0.48548162,\n",
      "         0.775805  ,  0.8614397 ],\n",
      "       ...,\n",
      "       [-0.56504273,  0.99438584,  0.96278787, ...,  0.97793305,\n",
      "         0.20630074,  0.7888957 ],\n",
      "       [ 0.9755362 ,  0.9873344 ,  0.9847375 , ..., -0.06898719,\n",
      "         0.9344406 ,  0.978999  ],\n",
      "       [ 0.9173045 ,  0.98738384,  0.99352384, ..., -0.0159297 ,\n",
      "         0.92463696,  0.63157475]], dtype=float32), array([[ 0.8276545 ,  0.9957231 ,  0.9920249 , ..., -0.77025133,\n",
      "         0.6716528 ,  0.920784  ],\n",
      "       [ 0.9942708 ,  0.987007  ,  0.9511429 , ..., -0.1932537 ,\n",
      "         0.9215368 ,  0.6426611 ],\n",
      "       [ 0.89587355,  0.99192345,  0.99351895, ..., -0.12014437,\n",
      "         0.97553134,  0.72496605],\n",
      "       ...,\n",
      "       [ 0.9244107 ,  0.9916954 ,  0.9993336 , ...,  0.09616566,\n",
      "         0.9778862 ,  0.9967818 ],\n",
      "       [-0.02928281,  0.99031913,  0.99529564, ...,  0.62782204,\n",
      "         0.14010382,  0.80372703],\n",
      "       [ 0.54378176,  0.96227777,  0.99639165, ...,  0.41071367,\n",
      "         0.96406794,  0.90530384]], dtype=float32), array([[ 0.9976139 ,  0.966766  ,  0.9691845 , ..., -0.43807536,\n",
      "         0.89890015,  0.7389493 ],\n",
      "       [ 0.81589353,  0.99208   ,  0.9968618 , ...,  0.54994905,\n",
      "         0.9526782 ,  0.9034569 ],\n",
      "       [ 0.7466898 ,  0.97689986,  0.97081137, ..., -0.7114333 ,\n",
      "         0.93406487,  0.69474137],\n",
      "       ...,\n",
      "       [ 0.98964477,  0.99146783,  0.9920292 , ...,  0.40465832,\n",
      "         0.93107235,  0.6068467 ],\n",
      "       [ 0.940909  ,  0.9989568 ,  0.99375176, ..., -0.8846642 ,\n",
      "         0.9461603 ,  0.518726  ],\n",
      "       [ 0.9785342 ,  0.9933815 ,  0.98113894, ...,  0.22701979,\n",
      "         0.9239671 ,  0.92772543]], dtype=float32), array([[ 0.9774544 ,  0.98664486,  0.73943806, ...,  0.52529156,\n",
      "         0.98605716,  0.98850346],\n",
      "       [ 0.4640913 ,  0.9955598 ,  0.94047534, ..., -0.9107893 ,\n",
      "         0.7622448 ,  0.8577044 ],\n",
      "       [ 0.93117034,  0.94810987,  0.9717305 , ..., -0.85191333,\n",
      "         0.962587  ,  0.6998764 ],\n",
      "       ...,\n",
      "       [ 0.16182482,  0.9029381 ,  0.9949815 , ..., -0.03472161,\n",
      "         0.83618736,  0.95548725],\n",
      "       [ 0.96217084,  0.98096824,  0.96003556, ...,  0.46895206,\n",
      "         0.9884181 ,  0.90837204],\n",
      "       [ 0.96828604,  0.9630796 ,  0.9955441 , ...,  0.58215475,\n",
      "         0.8592694 ,  0.8998786 ]], dtype=float32), array([[ 0.9983072 ,  0.97980547,  0.9792739 , ...,  0.2901343 ,\n",
      "         0.48443747,  0.88071907],\n",
      "       [-0.30102843,  0.63209426,  0.9083798 , ..., -0.95595443,\n",
      "         0.7063688 ,  0.7489399 ],\n",
      "       [-0.9709288 ,  0.98568034,  0.98198557, ...,  0.82104766,\n",
      "        -0.2211672 ,  0.88213885],\n",
      "       ...,\n",
      "       [ 0.99854934,  0.99562454,  0.8685204 , ...,  0.1074264 ,\n",
      "         0.9781234 ,  0.6679492 ],\n",
      "       [ 0.9946189 ,  0.975299  ,  0.99594724, ..., -0.79280335,\n",
      "         0.7213135 ,  0.75665665],\n",
      "       [ 0.9932883 ,  0.9970093 ,  0.9901308 , ...,  0.404837  ,\n",
      "         0.8890294 ,  0.78598046]], dtype=float32), array([[ 0.8692492 ,  0.8839035 ,  0.9935874 , ...,  0.54845583,\n",
      "         0.80225146,  0.9995705 ],\n",
      "       [ 0.9571847 ,  0.9976151 ,  0.99616957, ...,  0.67289495,\n",
      "         0.9841788 ,  0.9410764 ],\n",
      "       [ 0.9700507 ,  0.9973928 ,  0.9966831 , ...,  0.13489592,\n",
      "         0.97807276,  0.8256941 ],\n",
      "       ...,\n",
      "       [ 0.9965377 ,  0.9610089 ,  0.99074614, ...,  0.17583835,\n",
      "         0.4594952 ,  0.93614936],\n",
      "       [ 0.9976436 ,  0.9907168 ,  0.9772928 , ..., -0.03556049,\n",
      "         0.9457543 ,  0.61100864],\n",
      "       [ 0.79931056,  0.99694216,  0.98780715, ..., -0.9578667 ,\n",
      "         0.974751  ,  0.6797457 ]], dtype=float32), array([[ 0.99819374,  0.9306687 ,  0.9942547 , ...,  0.07363033,\n",
      "         0.99447465,  0.86380816],\n",
      "       [ 0.9497417 ,  0.9320679 ,  0.98518443, ...,  0.33777833,\n",
      "         0.9844215 ,  0.9453703 ],\n",
      "       [ 0.9062766 ,  0.9807304 ,  0.9544004 , ...,  0.2576815 ,\n",
      "         0.9539629 ,  0.9730185 ],\n",
      "       ...,\n",
      "       [ 0.9527191 ,  0.6798197 ,  0.99289453, ..., -0.6564146 ,\n",
      "         0.994658  ,  0.75662184],\n",
      "       [ 0.8731961 ,  0.989758  ,  0.96261907, ..., -0.2123537 ,\n",
      "         0.985245  ,  0.5593785 ],\n",
      "       [-0.11875594,  0.9786445 ,  0.9682559 , ..., -0.5797632 ,\n",
      "         0.78796804,  0.7983757 ]], dtype=float32), array([[ 0.9674139 ,  0.9903728 ,  0.99136376, ..., -0.47571594,\n",
      "         0.99369895,  0.54943347],\n",
      "       [ 0.96872306,  0.9775642 ,  0.96068096, ..., -0.4851331 ,\n",
      "         0.9802438 ,  0.5356654 ],\n",
      "       [ 0.98543084,  0.8818873 ,  0.8463764 , ..., -0.32772106,\n",
      "         0.8985542 ,  0.6722317 ],\n",
      "       ...,\n",
      "       [ 0.7083967 ,  0.99651635,  0.9975877 , ..., -0.44560617,\n",
      "         0.92995334,  0.7700207 ],\n",
      "       [ 0.98195505,  0.97440636,  0.9975939 , ..., -0.20558214,\n",
      "         0.869099  ,  0.74708056],\n",
      "       [ 0.99828196,  0.9379685 ,  0.910362  , ...,  0.31710505,\n",
      "         0.9988358 ,  0.7596576 ]], dtype=float32), array([[ 0.5311619 ,  0.790328  ,  0.7725545 , ..., -0.28096217,\n",
      "         0.7870492 ,  0.9779867 ],\n",
      "       [ 0.9790224 ,  0.9550388 ,  0.96606183, ...,  0.5392736 ,\n",
      "         0.97483516,  0.9800656 ],\n",
      "       [ 0.97259235,  0.9873775 ,  0.9577757 , ..., -0.41776603,\n",
      "         0.96879816,  0.6831764 ],\n",
      "       ...,\n",
      "       [ 0.8280506 ,  0.9656689 ,  0.98897016, ...,  0.6107539 ,\n",
      "         0.8582212 ,  0.6761116 ],\n",
      "       [ 0.8090377 ,  0.9769399 ,  0.97813296, ...,  0.7347361 ,\n",
      "         0.92791355,  0.98214495],\n",
      "       [ 0.19059372,  0.9912517 ,  0.9809238 , ..., -0.41304886,\n",
      "         0.91009426,  0.9872798 ]], dtype=float32), array([[ 0.94394755,  0.95541584,  0.9765345 , ...,  0.05913579,\n",
      "         0.99441874,  0.63475084],\n",
      "       [ 0.9854785 ,  0.99458325,  0.91194737, ...,  0.43638945,\n",
      "         0.9849676 ,  0.9455979 ],\n",
      "       [ 0.9656366 ,  0.99049485,  0.9803946 , ...,  0.63664794,\n",
      "         0.98713994,  0.9527314 ],\n",
      "       ...,\n",
      "       [ 0.95845747,  0.99432695,  0.9974612 , ..., -0.06169063,\n",
      "         0.62704575,  0.897997  ],\n",
      "       [ 0.664737  ,  0.8219285 ,  0.9986969 , ...,  0.5132332 ,\n",
      "         0.9858247 ,  0.977641  ],\n",
      "       [ 0.99282324,  0.951597  ,  0.96663094, ..., -0.26533622,\n",
      "         0.74332213,  0.7990836 ]], dtype=float32), array([[ 0.9999354 ,  0.9884393 ,  0.9556308 , ...,  0.5840193 ,\n",
      "         0.98859155,  0.9914534 ],\n",
      "       [ 0.98234236,  0.98992467,  0.97570515, ...,  0.20641613,\n",
      "         0.84797823,  0.88657105],\n",
      "       [ 0.99746406,  0.90480566,  0.8618703 , ..., -0.1401316 ,\n",
      "         0.9650558 ,  0.6441746 ],\n",
      "       ...,\n",
      "       [ 0.13471448,  0.89706075,  0.9921131 , ..., -0.6439473 ,\n",
      "         0.9530262 ,  0.8258771 ],\n",
      "       [ 0.93732214,  0.91330314,  0.97107184, ...,  0.22539341,\n",
      "         0.995355  ,  0.96730053],\n",
      "       [-0.3990351 ,  0.99689555,  0.94943094, ..., -0.87488884,\n",
      "         0.65280294,  0.91722715]], dtype=float32), array([[ 0.9979365 ,  0.9963249 ,  0.99690413, ...,  0.6356088 ,\n",
      "         0.9632243 ,  0.87075305],\n",
      "       [ 0.81821036,  0.79222965,  0.35661924, ..., -0.62770224,\n",
      "         0.9941044 ,  0.9524828 ],\n",
      "       [ 0.9978639 ,  0.9454216 ,  0.95152867, ...,  0.30584264,\n",
      "         0.9667448 ,  0.70790803],\n",
      "       ...,\n",
      "       [-0.18693209,  0.9559792 ,  0.99471164, ...,  0.98619306,\n",
      "         0.60100496,  0.9884113 ],\n",
      "       [ 0.5640129 ,  0.9958675 ,  0.9778099 , ..., -0.87348676,\n",
      "         0.94836915,  0.69176114],\n",
      "       [ 0.3647492 ,  0.99483013,  0.9969655 , ...,  0.03235197,\n",
      "         0.8708588 ,  0.93132746]], dtype=float32), array([[ 0.9995228 ,  0.99863935,  0.96694934, ...,  0.5461174 ,\n",
      "         0.93308616,  0.6824392 ],\n",
      "       [ 0.97963023,  0.73637044,  0.97617126, ..., -0.74387324,\n",
      "         0.97099197,  0.6278757 ],\n",
      "       [ 0.5805671 ,  0.9894905 ,  0.9720236 , ..., -0.9633393 ,\n",
      "         0.97671664,  0.6586076 ],\n",
      "       ...,\n",
      "       [ 0.8695241 ,  0.99623764,  0.985307  , ..., -0.6904316 ,\n",
      "         0.9911424 ,  0.97270143],\n",
      "       [ 0.6855376 ,  0.9644946 ,  0.9844785 , ...,  0.4927435 ,\n",
      "         0.979439  ,  0.9265387 ],\n",
      "       [ 0.9600105 ,  0.9689343 ,  0.9918097 , ...,  0.28108513,\n",
      "         0.9561826 ,  0.6744071 ]], dtype=float32), array([[ 0.86305785,  0.95137775,  0.9968914 , ..., -0.36158997,\n",
      "         0.96590686,  0.6943368 ],\n",
      "       [ 0.938781  ,  0.98970425,  0.9861609 , ...,  0.3203137 ,\n",
      "         0.97894144,  0.65496194],\n",
      "       [ 0.86977625,  0.9810978 ,  0.9686624 , ...,  0.636044  ,\n",
      "         0.9818034 ,  0.8313676 ],\n",
      "       ...,\n",
      "       [-0.79109854,  0.93559   ,  0.952152  , ...,  0.24594176,\n",
      "        -0.9373275 ,  0.95968366],\n",
      "       [ 0.93916035,  0.9946767 ,  0.9746022 , ...,  0.6352378 ,\n",
      "         0.830894  ,  0.9598595 ],\n",
      "       [ 0.964527  ,  0.99092853,  0.9308516 , ..., -0.39606512,\n",
      "         0.8481741 ,  0.6767576 ]], dtype=float32)]\n"
     ]
    }
   ],
   "source": [
    "zs = []\n",
    "for posterior in posteriors:\n",
    "    zs.append(posterior.sample((1000,), x=x_0).numpy())\n",
    "print(zs)"
   ]
  },
  {
   "cell_type": "code",
   "execution_count": 9,
   "id": "documentary-behalf",
   "metadata": {},
   "outputs": [
    {
     "data": {
      "application/vnd.jupyter.widget-view+json": {
       "model_id": "d3ac64ad397d441693d534dacd75802f",
       "version_major": 2,
       "version_minor": 0
      },
      "text/plain": [
       "Drawing 1000 posterior samples:   0%|          | 0/1000 [00:00<?, ?it/s]"
      ]
     },
     "metadata": {},
     "output_type": "display_data"
    },
    {
     "data": {
      "image/png": "[encoded data removed]",
      "text/plain": [
       "<Figure size 432x432 with 64 Axes>"
      ]
     },
     "metadata": {
      "needs_background": "light"
     },
     "output_type": "display_data"
    }
   ],
   "source": [
    "samples = posterior.sample((1000,), x=x_0)\n",
    "log_probability = posterior.log_prob(samples, x=x_0)\n",
    "limits = num_dim*[[-1, 1]]\n",
    "_ = analysis.pairplot(samples, limits=limits, figsize=(6,6))"
   ]
  },
  {
   "cell_type": "code",
   "execution_count": 10,
   "id": "norwegian-interpretation",
   "metadata": {},
   "outputs": [
    {
     "data": {
      "text/plain": [
       "<matplotlib.collections.PathCollection at 0x7ff8cc82f160>"
      ]
     },
     "execution_count": 10,
     "metadata": {},
     "output_type": "execute_result"
    },
    {
     "data": {
      "image/png": "[encoded data removed]",
      "text/plain": [
       "<Figure size 432x288 with 1 Axes>"
      ]
     },
     "metadata": {
      "needs_background": "light"
     },
     "output_type": "display_data"
    }
   ],
   "source": [
    "import matplotlib.pyplot as plt\n",
    "predictions = simulator(samples).numpy()\n",
    "plt.scatter(predictions[:,0], predictions[:,1])\n"
   ]
  },
  {
   "cell_type": "code",
   "execution_count": 7,
   "id": "upper-fourth",
   "metadata": {},
   "outputs": [
    {
     "data": {
      "application/vnd.jupyter.widget-view+json": {
       "model_id": "b3011312ace44a4483013d77c9805cae",
       "version_major": 2,
       "version_minor": 0
      },
      "text/plain": [
       "Drawing 1000 posterior samples:   0%|          | 0/1000 [00:00<?, ?it/s]"
      ]
     },
     "metadata": {},
     "output_type": "display_data"
    }
   ],
   "source": [
    "\"\"\"density_estimator = density_estimator_build_fun(theta, x)\n",
    "\n",
    "observation = torch.zeros(3)\n",
    "posterior = inference.build_posterior(density_estimator)\n",
    "\n",
    "samples = posterior.sample((1000,), x=observation)\n",
    "print('max', torch.max(samples))\n",
    "print('min', torch.min(samples))\n",
    "print('less 0', torch.sum(samples < 0))\n",
    "print('more 1', torch.sum(samples > 1))\n",
    "print(samples)\"\"\""
   ]
  },
  {
   "cell_type": "code",
   "execution_count": null,
   "id": "inclusive-courtesy",
   "metadata": {},
   "outputs": [],
   "source": []
  }
 ],
 "metadata": {
  "kernelspec": {
   "display_name": "Python (sbi)",
   "language": "python",
   "name": "sbi"
  },
  "language_info": {
   "codemirror_mode": {
    "name": "ipython",
    "version": 3
   },
   "file_extension": ".py",
   "mimetype": "text/x-python",
   "name": "python",
   "nbconvert_exporter": "python",
   "pygments_lexer": "ipython3",
   "version": "3.6.13"
  }
 },
 "nbformat": 4,
 "nbformat_minor": 5
}
