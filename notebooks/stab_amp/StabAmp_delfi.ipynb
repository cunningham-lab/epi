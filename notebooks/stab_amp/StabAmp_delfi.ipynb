{
 "cells": [
  {
   "cell_type": "code",
   "execution_count": 1,
   "metadata": {},
   "outputs": [],
   "source": [
    "%matplotlib inline\n",
    "\n",
    "import numpy as np"
   ]
  },
  {
   "cell_type": "code",
   "execution_count": 2,
   "metadata": {},
   "outputs": [],
   "source": [
    "import delfi"
   ]
  },
  {
   "cell_type": "code",
   "execution_count": 3,
   "metadata": {},
   "outputs": [],
   "source": [
    "N = 2 \n",
    "\n",
    "def Jeigs(params):\n",
    "    \"\"\"Calculates Jeigs.\n",
    "\n",
    "        Parameters\n",
    "        ---------- \n",
    "        params : np.array, 1d of length dim_param\n",
    "            Parameter vector\n",
    "        seed : int\n",
    "        \"\"\"\n",
    "    \n",
    "    u1 = params[0,:N]\n",
    "    u2 = params[0,N:(2*N)]\n",
    "    v1 = params[0,(2*N):(3*N)]\n",
    "    v2 = params[0,(3*N):]\n",
    "\n",
    "    U = np.stack((u1, u2), axis=1)\n",
    "    V = np.stack((v1, v2), axis=1)\n",
    "\n",
    "    J = np.matmul(U, np.transpose(V))\n",
    "    Js = (J + np.transpose(J)) / 2.\n",
    "    Js_eigs = np.linalg.eigvalsh(Js)\n",
    "    Js_eig_max = np.max(Js_eigs, axis=0)\n",
    "\n",
    "    # Take eig of low rank similar mat\n",
    "    Jr = np.matmul(np.transpose(V), U) + 0.0001*np.eye(2)\n",
    "    Jr_tr = np.trace(Jr)\n",
    "    sqrt_term = np.square(Jr_tr) + -4.*np.linalg.det(Jr)\n",
    "    J_eig_realmax = 0.5 * (Jr_tr + np.real(np.sqrt(sqrt_term)))\n",
    "\n",
    "    return np.array([J_eig_realmax, Js_eig_max])"
   ]
  },
  {
   "cell_type": "code",
   "execution_count": 4,
   "metadata": {},
   "outputs": [],
   "source": [
    "from delfi.simulator.BaseSimulator import BaseSimulator\n",
    "\n",
    "class RNN(BaseSimulator):\n",
    "    def __init__(self, N):\n",
    "        \"\"\"Hodgkin-Huxley simulator\n",
    "\n",
    "        Parameters\n",
    "        ----------\n",
    "        I : array\n",
    "            Numpy array with the input current\n",
    "        dt : float\n",
    "            Timestep\n",
    "        V0 : float\n",
    "            Voltage at first time step\n",
    "        seed : int or None\n",
    "            If set, randomness across runs is disabled\n",
    "        \"\"\"\n",
    "        self.N = N\n",
    "        self.r = 2\n",
    "        dim_param = self.N*self.r*2\n",
    "\n",
    "        super().__init__(dim_param=dim_param, seed=seed)\n",
    "        self.Jeigs = Jeigs\n",
    "\n",
    "    def gen_single(self, params):\n",
    "        \"\"\"Forward model for simulator for single parameter set\n",
    "\n",
    "        Parameters\n",
    "        ----------\n",
    "        params : list or np.array, 1d of length dim_param\n",
    "            Parameter vector\n",
    "\n",
    "        Returns\n",
    "        -------\n",
    "        dict : dictionary with data\n",
    "            The dictionary must contain a key data that contains the results of\n",
    "            the forward run. Additional entries can be present.\n",
    "        \"\"\"\n",
    "        params = np.asarray(params)\n",
    "\n",
    "        assert params.ndim == 1, 'params.ndim must be 1'\n",
    "\n",
    "        hh_seed = self.gen_newseed()\n",
    "\n",
    "        states = self.Jeigs(params.reshape(1, -1))\n",
    "\n",
    "        return {'data': states}"
   ]
  },
  {
   "cell_type": "code",
   "execution_count": 5,
   "metadata": {},
   "outputs": [],
   "source": [
    "import delfi.distribution as dd\n",
    "\n",
    "seed_p = 1\n",
    "prior_min = -np.ones((4*N,))\n",
    "prior_max = np.ones((4*N,))\n",
    "prior = dd.Uniform(lower=prior_min, upper=prior_max,seed=seed_p)\n"
   ]
  },
  {
   "cell_type": "code",
   "execution_count": 6,
   "metadata": {},
   "outputs": [],
   "source": [
    "from delfi.summarystats.BaseSummaryStats import BaseSummaryStats\n",
    "from scipy import stats as spstats\n",
    "\n",
    "class RNNStats(BaseSummaryStats):\n",
    "    \"\"\"Moment based SummaryStats class for the Hodgkin-Huxley model\n",
    "\n",
    "    Calculates summary statistics\n",
    "    \"\"\"\n",
    "    def __init__(self, seed=None):\n",
    "        \"\"\"See SummaryStats.py for docstring\"\"\"\n",
    "        super(RNNStats, self).__init__(seed=seed)\n",
    "\n",
    "    def calc(self, repetition_list):\n",
    "        \"\"\"Calculate summary statistics\n",
    "\n",
    "        Parameters\n",
    "        ----------\n",
    "        repetition_list : list of dictionaries, one per repetition\n",
    "            data list, returned by `gen` method of Simulator instance\n",
    "\n",
    "        Returns\n",
    "        -------\n",
    "        np.array, 2d with n_reps x n_summary\n",
    "        \"\"\"\n",
    "        stats = []\n",
    "        if len(repetition_list) > 1:\n",
    "            print(repetition_list)\n",
    "            raise NotImplementedError()\n",
    "        for r in range(len(repetition_list)):\n",
    "            x = repetition_list[r]\n",
    "\n",
    "            stats.append(x['data'])\n",
    "        return np.asarray(stats)"
   ]
  },
  {
   "cell_type": "code",
   "execution_count": 10,
   "metadata": {},
   "outputs": [],
   "source": [
    "import delfi.generator as dg\n",
    "\n",
    "seed = 0\n",
    "# define model, prior, summary statistics and generator classes\n",
    "m = RNN(N=N)\n",
    "s = RNNStats()\n",
    "g = dg.Default(model=m, prior=prior, summary=s)"
   ]
  },
  {
   "cell_type": "code",
   "execution_count": 11,
   "metadata": {},
   "outputs": [],
   "source": [
    "n_processes = 10\n",
    "\n",
    "seeds_m = np.arange(1,n_processes+1,1)\n",
    "m = []\n",
    "for i in range(n_processes):\n",
    "    m.append(RNN(N=N))\n",
    "g = dg.MPGenerator(models=m, prior=prior, summary=s)"
   ]
  },
  {
   "cell_type": "code",
   "execution_count": 12,
   "metadata": {},
   "outputs": [],
   "source": [
    "# true parameters and respective labels\n",
    "true_params = np.random.uniform(-1., 1., (4*N,))       \n",
    "labels_params = [r'$T_1$', r'$T_2$']\n",
    "\n",
    "# observed data: simulation given true parameters\n",
    "obs = m[0].gen_single(true_params)"
   ]
  },
  {
   "cell_type": "code",
   "execution_count": 13,
   "metadata": {},
   "outputs": [],
   "source": [
    "obs_stats = np.array([0.5, 1.5])"
   ]
  },
  {
   "cell_type": "code",
   "execution_count": 16,
   "metadata": {},
   "outputs": [],
   "source": [
    "seed_inf = 1\n",
    "\n",
    "pilot_samples = 2000\n",
    "\n",
    "# training schedule\n",
    "n_train = 2000\n",
    "n_rounds = 2\n",
    "\n",
    "# fitting setup\n",
    "minibatch = 100\n",
    "epochs = 100\n",
    "val_frac = 0.05\n",
    "\n",
    "# network setup\n",
    "n_hiddens = [50,50]\n",
    "\n",
    "# convenience\n",
    "prior_norm = False\n",
    "\n",
    "# MAF parameters\n",
    "density = 'maf'\n",
    "n_mades = 5"
   ]
  },
  {
   "cell_type": "code",
   "execution_count": 15,
   "metadata": {},
   "outputs": [
    {
     "data": {
      "application/vnd.jupyter.widget-view+json": {
       "model_id": "f09a7f5a5744462fa9f0611b742b013f",
       "version_major": 2,
       "version_minor": 0
      },
      "text/plain": [
       "HBox(children=(FloatProgress(value=0.0, max=2000.0), HTML(value='')))"
      ]
     },
     "metadata": {},
     "output_type": "display_data"
    },
    {
     "name": "stdout",
     "output_type": "stream",
     "text": [
      "\n"
     ]
    },
    {
     "data": {
      "application/vnd.jupyter.widget-view+json": {
       "model_id": "49e96b1fb75c47e8baf360bc4daf6777",
       "version_major": 2,
       "version_minor": 0
      },
      "text/plain": [
       "HBox(children=(FloatProgress(value=0.0, max=2000.0), HTML(value='')))"
      ]
     },
     "metadata": {},
     "output_type": "display_data"
    },
    {
     "name": "stdout",
     "output_type": "stream",
     "text": [
      "\n",
      "Entropy 10.477632987189882\n"
     ]
    },
    {
     "data": {
      "image/png": "[encoded data removed]",
      "text/plain": [
       "<Figure size 432x288 with 1 Axes>"
      ]
     },
     "metadata": {
      "needs_background": "light"
     },
     "output_type": "display_data"
    }
   ],
   "source": [
    "import delfi.inference as infer\n",
    "\n",
    "# inference object\n",
    "res = infer.SNPEC(g,\n",
    "                obs=obs_stats,\n",
    "                n_hiddens=n_hiddens,\n",
    "                seed=seed_inf,\n",
    "                pilot_samples=pilot_samples,\n",
    "                n_mades=n_mades,\n",
    "                prior_norm=prior_norm,\n",
    "                density=density)\n",
    "\n",
    "M = 100\n",
    "nf = res.predict(x=obs_stats, deterministic=True)\n",
    "z = nf.gen(M)\n",
    "\n",
    "T_x = []\n",
    "for m in range(M):\n",
    "    T_x.append(Jeigs(z[m][None,:]))\n",
    "    \n",
    "T_x = np.array(T_x)\n",
    "\n",
    "log_p_z = nf.eval(z)\n",
    "H = -np.mean(log_p_z)\n",
    "print('Entropy', H)\n",
    "\n",
    "plt.figure()\n",
    "plt.scatter(T_x[:,0], T_x[:,1])\n",
    "plt.xlabel('max real eig(J)')\n",
    "plt.ylabel('max real eig(Jas)')\n",
    "plt.show()\n"
   ]
  },
  {
   "cell_type": "code",
   "execution_count": 17,
   "metadata": {},
   "outputs": [
    {
     "data": {
      "application/vnd.jupyter.widget-view+json": {
       "model_id": "cfc54a73278447b587fc9f19094be3ed",
       "version_major": 2,
       "version_minor": 0
      },
      "text/plain": [
       "HBox(children=(FloatProgress(value=0.0, max=447.0), HTML(value='')))"
      ]
     },
     "metadata": {},
     "output_type": "display_data"
    },
    {
     "name": "stdout",
     "output_type": "stream",
     "text": [
      "\n"
     ]
    },
    {
     "data": {
      "application/vnd.jupyter.widget-view+json": {
       "model_id": "5b9adb58e20c4910af38d825d2e4dd86",
       "version_major": 2,
       "version_minor": 0
      },
      "text/plain": [
       "HBox(children=(FloatProgress(value=0.0, max=447.0), HTML(value='')))"
      ]
     },
     "metadata": {},
     "output_type": "display_data"
    },
    {
     "name": "stdout",
     "output_type": "stream",
     "text": [
      "\n"
     ]
    },
    {
     "data": {
      "application/vnd.jupyter.widget-view+json": {
       "model_id": "6826735fd71740ba8650e66c8ceb9cc5",
       "version_major": 2,
       "version_minor": 0
      },
      "text/plain": [
       "HBox(children=(FloatProgress(value=0.0, max=200000.0), HTML(value='')))"
      ]
     },
     "metadata": {},
     "output_type": "display_data"
    },
    {
     "name": "stdout",
     "output_type": "stream",
     "text": [
      "\n"
     ]
    },
    {
     "data": {
      "application/vnd.jupyter.widget-view+json": {
       "model_id": "27f98f700e3b410bab3a56887a05aad7",
       "version_major": 2,
       "version_minor": 0
      },
      "text/plain": [
       "HBox(children=(FloatProgress(value=0.0, max=2000.0), HTML(value='')))"
      ]
     },
     "metadata": {},
     "output_type": "display_data"
    },
    {
     "name": "stdout",
     "output_type": "stream",
     "text": [
      "\n"
     ]
    },
    {
     "data": {
      "application/vnd.jupyter.widget-view+json": {
       "model_id": "2d377398a2774486abd3f2edfce1dcc4",
       "version_major": 2,
       "version_minor": 0
      },
      "text/plain": [
       "HBox(children=(FloatProgress(value=0.0, max=2000.0), HTML(value='')))"
      ]
     },
     "metadata": {},
     "output_type": "display_data"
    },
    {
     "name": "stdout",
     "output_type": "stream",
     "text": [
      "\n"
     ]
    },
    {
     "data": {
      "application/vnd.jupyter.widget-view+json": {
       "model_id": "bbe79eb853e3472fbb86d2080589017a",
       "version_major": 2,
       "version_minor": 0
      },
      "text/plain": [
       "HBox(children=(FloatProgress(value=0.0, max=200000.0), HTML(value='')))"
      ]
     },
     "metadata": {},
     "output_type": "display_data"
    },
    {
     "name": "stdout",
     "output_type": "stream",
     "text": [
      "\n"
     ]
    }
   ],
   "source": [
    "# train\n",
    "logs, trn_datasets, posteriors = res.run(\n",
    "                    n_train=n_train,\n",
    "                    n_rounds=n_rounds,\n",
    "                    n_atoms=25,\n",
    "                    minibatch=minibatch,\n",
    "                    epochs=epochs,\n",
    "                    silent_fail=False,\n",
    "                    proposal='prior',\n",
    "                    val_frac=val_frac,\n",
    "                    verbose=True,)"
   ]
  },
  {
   "cell_type": "code",
   "execution_count": 18,
   "metadata": {},
   "outputs": [
    {
     "data": {
      "image/png": "[encoded data removed]",
      "text/plain": [
       "<Figure size 432x288 with 1 Axes>"
      ]
     },
     "metadata": {
      "needs_background": "light"
     },
     "output_type": "display_data"
    }
   ],
   "source": [
    "def plot_SNPEC_opt(logs, trn_datasets, posteriors):\n",
    "    losses = [logs[i]['loss'] for i in range(len(logs))]\n",
    "    loss = np.concatenate(losses, axis=0)\n",
    "    plt.plot(loss,lw=2)\n",
    "    plt.xlabel('iteration')\n",
    "    plt.ylabel('loss')\n",
    "    \n",
    "plot_SNPEC_opt(logs, trn_datasets, posteriors)"
   ]
  },
  {
   "cell_type": "code",
   "execution_count": null,
   "metadata": {},
   "outputs": [],
   "source": []
  },
  {
   "cell_type": "code",
   "execution_count": 25,
   "metadata": {},
   "outputs": [
    {
     "name": "stdout",
     "output_type": "stream",
     "text": [
      "Entropy 7.183514536114632\n"
     ]
    },
    {
     "data": {
      "image/png": "[encoded data removed]",
      "text/plain": [
       "<Figure size 432x288 with 1 Axes>"
      ]
     },
     "metadata": {
      "needs_background": "light"
     },
     "output_type": "display_data"
    }
   ],
   "source": [
    "M = 100\n",
    "nf = res.predict(x=obs_stats, deterministic=True)\n",
    "z = nf.gen(M)\n",
    "\n",
    "T_x = []\n",
    "for m in range(M):\n",
    "    T_x.append(Jeigs(z[m][None,:]))\n",
    "    \n",
    "T_x = np.array(T_x)\n",
    "\n",
    "log_p_z = nf.eval(z)\n",
    "H = -np.mean(log_p_z)\n",
    "print('Entropy', H)\n",
    "\n",
    "plt.figure()\n",
    "plt.scatter(T_x[:,0], T_x[:,1])\n",
    "plt.xlabel('max real eig(J)')\n",
    "plt.ylabel('max real eig(Jas)')\n",
    "plt.show()"
   ]
  },
  {
   "cell_type": "code",
   "execution_count": 36,
   "metadata": {},
   "outputs": [
    {
     "name": "stdout",
     "output_type": "stream",
     "text": [
      "<delfi.neuralnet.NeuralNet.MAFconditional object at 0x125e71198>\n",
      "[-83.77712939]\n"
     ]
    }
   ],
   "source": [
    "print(nf)\n",
    "x = np.tile(np.array([obs_stats]), (1, 1))\n",
    "z_in = np.array([z[0]])\n",
    "print(nf.eval(z_in))"
   ]
  },
  {
   "cell_type": "code",
   "execution_count": null,
   "metadata": {},
   "outputs": [],
   "source": []
  }
 ],
 "metadata": {
  "kernelspec": {
   "display_name": "Python (delfi)",
   "language": "python",
   "name": "delfi"
  },
  "language_info": {
   "codemirror_mode": {
    "name": "ipython",
    "version": 3
   },
   "file_extension": ".py",
   "mimetype": "text/x-python",
   "name": "python",
   "nbconvert_exporter": "python",
   "pygments_lexer": "ipython3",
   "version": "3.6.12"
  }
 },
 "nbformat": 4,
 "nbformat_minor": 4
}
