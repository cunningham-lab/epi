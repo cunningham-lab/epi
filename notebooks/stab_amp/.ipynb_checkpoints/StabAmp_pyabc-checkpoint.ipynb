{
 "cells": [
  {
   "cell_type": "code",
   "execution_count": 1,
   "metadata": {},
   "outputs": [],
   "source": [
    "import pyabc\n",
    "\n",
    "import numpy as np\n",
    "import scipy.stats as st\n",
    "import tempfile\n",
    "import os\n",
    "import pandas as pd\n",
    "import matplotlib.pyplot as plt\n",
    "%matplotlib inline"
   ]
  },
  {
   "cell_type": "code",
   "execution_count": 29,
   "metadata": {},
   "outputs": [],
   "source": [
    "N = 5\n",
    "\n",
    "def model(parameter):\n",
    "    u1 = np.array([parameter[\"U%d1\" % i] for i in range(1, N+1)])\n",
    "    u2 = np.array([parameter[\"U%d2\" % i] for i in range(1, N+1)])\n",
    "    v1 = np.array([parameter[\"V%d1\" % i] for i in range(1, N+1)])\n",
    "    v2 = np.array([parameter[\"V%d2\" % i] for i in range(1, N+1)])\n",
    "\n",
    "    U = np.stack((u1, u2), axis=1)\n",
    "    V = np.stack((v1, v2), axis=1)\n",
    "\n",
    "    J = np.matmul(U, np.transpose(V))\n",
    "    Js = (J + np.transpose(J)) / 2.\n",
    "    Js_eigs = np.linalg.eigvalsh(Js)\n",
    "    Js_eig_max = np.max(Js_eigs, axis=0)\n",
    "\n",
    "    # Take eig of low rank similar mat\n",
    "    Jr = np.matmul(np.transpose(V), U) + 0.0001*np.eye(2)\n",
    "    Jr_tr = np.trace(Jr)\n",
    "    sqrt_term = np.square(Jr_tr) + -4.*np.linalg.det(Jr)\n",
    "    if sqrt_term < 0.:\n",
    "        sqrt_term = 0.\n",
    "    J_eig_realmax = 0.5 * (Jr_tr + np.sqrt(sqrt_term))\n",
    "    \n",
    "    return {\"data\": np.array([J_eig_realmax, Js_eig_max])}"
   ]
  },
  {
   "cell_type": "code",
   "execution_count": 30,
   "metadata": {},
   "outputs": [],
   "source": [
    "parameters = [(\"U%d1\" % i,  pyabc.RV(\"uniform\", -1., 1.)) for i in range(1, N+1)]\n",
    "parameters += [(\"U%d2\" % i, pyabc.RV(\"uniform\", -1., 1.)) for i in range(1, N+1)]\n",
    "parameters += [(\"V%d1\" % i, pyabc.RV(\"uniform\", -1., 1.)) for i in range(1, N+1)]\n",
    "parameters += [(\"V%d2\" % i, pyabc.RV(\"uniform\", -1., 1.)) for i in range(1, N+1)]\n",
    "parameters = dict(parameters)"
   ]
  },
  {
   "cell_type": "code",
   "execution_count": 31,
   "metadata": {},
   "outputs": [],
   "source": [
    "prior = pyabc.Distribution(parameters)"
   ]
  },
  {
   "cell_type": "code",
   "execution_count": 32,
   "metadata": {},
   "outputs": [],
   "source": [
    "def distance(x, y):\n",
    "    return np.linalg.norm(x[\"data\"] - y[\"data\"])"
   ]
  },
  {
   "cell_type": "code",
   "execution_count": 33,
   "metadata": {},
   "outputs": [],
   "source": [
    "sampler = pyabc.sampler.SingleCoreSampler()"
   ]
  },
  {
   "cell_type": "code",
   "execution_count": 34,
   "metadata": {},
   "outputs": [],
   "source": [
    "abc = pyabc.ABCSMC(model, prior, distance, sampler=sampler)"
   ]
  },
  {
   "cell_type": "code",
   "execution_count": 35,
   "metadata": {},
   "outputs": [
    {
     "name": "stderr",
     "output_type": "stream",
     "text": [
      "INFO:History:Start <ABCSMC(id=23, start_time=2020-09-11 14:08:53.679360, end_time=None)>\n"
     ]
    },
    {
     "data": {
      "text/plain": [
       "<pyabc.storage.history.History at 0x12cd942b0>"
      ]
     },
     "execution_count": 35,
     "metadata": {},
     "output_type": "execute_result"
    }
   ],
   "source": [
    "db_path = (\"sqlite:///\" +\n",
    "           os.path.join(tempfile.gettempdir(), \"test.db\"))\n",
    "observation = np.array([0.5, 1.5])\n",
    "abc.new(db_path, {\"data\": observation})"
   ]
  },
  {
   "cell_type": "code",
   "execution_count": 36,
   "metadata": {},
   "outputs": [
    {
     "name": "stderr",
     "output_type": "stream",
     "text": [
      "INFO:ABC:Calibration sample before t=0.\n",
      "INFO:Epsilon:initial epsilon is 2.114972157851508\n",
      "INFO:ABC:t: 0, eps: 2.114972157851508.\n",
      "INFO:ABC:Acceptance rate: 100 / 232 = 4.3103e-01, ESS=1.0000e+02.\n",
      "INFO:ABC:t: 1, eps: 1.614512351973869.\n",
      "INFO:ABC:Acceptance rate: 100 / 242 = 4.1322e-01, ESS=1.8916e+00.\n",
      "INFO:ABC:t: 2, eps: 0.9723559041627975.\n",
      "INFO:ABC:Acceptance rate: 100 / 1516 = 6.5963e-02, ESS=2.7655e+00.\n",
      "INFO:ABC:t: 3, eps: 0.9397067262926287.\n",
      "INFO:ABC:Acceptance rate: 100 / 159 = 6.2893e-01, ESS=1.0892e+00.\n",
      "INFO:ABC:t: 4, eps: 0.7807888064168347.\n",
      "INFO:ABC:Acceptance rate: 100 / 544 = 1.8382e-01, ESS=2.8596e+00.\n",
      "INFO:ABC:t: 5, eps: 0.7763926076713312.\n",
      "INFO:ABC:Acceptance rate: 100 / 244 = 4.0984e-01, ESS=1.8562e+00.\n",
      "INFO:ABC:t: 6, eps: 0.6274889564283518.\n",
      "INFO:ABC:Acceptance rate: 100 / 690 = 1.4493e-01, ESS=3.8346e+00.\n",
      "INFO:ABC:Stopping: minimum epsilon.\n",
      "INFO:History:Done <ABCSMC(id=23, start_time=2020-09-11 14:08:53.679360, end_time=2020-09-11 14:09:52.032269)>\n"
     ]
    }
   ],
   "source": [
    "history = abc.run(minimum_epsilon=np.sqrt(2.)/2., max_nr_populations=10)"
   ]
  },
  {
   "cell_type": "code",
   "execution_count": 37,
   "metadata": {},
   "outputs": [],
   "source": [
    "df1, w = history.get_distribution(m=0,t=history.max_t)"
   ]
  },
  {
   "cell_type": "code",
   "execution_count": 38,
   "metadata": {},
   "outputs": [
    {
     "data": {
      "text/plain": [
       "<matplotlib.collections.PathCollection at 0x12d0082e8>"
      ]
     },
     "execution_count": 38,
     "metadata": {},
     "output_type": "execute_result"
    },
    {
     "data": {
      "image/png": "[encoded data removed]",
      "text/plain": [
       "<Figure size 432x288 with 1 Axes>"
      ]
     },
     "metadata": {
      "needs_background": "light"
     },
     "output_type": "display_data"
    }
   ],
   "source": [
    "def T(z):\n",
    "    M = z.shape[0]\n",
    "    T_z = np.zeros((M,2))\n",
    "    for m in range(M):\n",
    "   \n",
    "        u1 = z[m,:N]\n",
    "        u2 = z[m,N:(2*N)]\n",
    "        v1 = z[m,(2*N):(3*N)]\n",
    "        v2 = z[m,(3*N):]\n",
    "        \n",
    "        U = np.stack((u1, u2), axis=1)\n",
    "        V = np.stack((v1, v2), axis=1)\n",
    "\n",
    "        J = np.matmul(U, np.transpose(V))\n",
    "        Js = (J + np.transpose(J)) / 2.\n",
    "        Js_eigs = np.linalg.eigvalsh(Js)\n",
    "        Js_eig_max = np.max(Js_eigs, axis=0)\n",
    "\n",
    "        # Take eig of low rank similar mat\n",
    "        Jr = np.matmul(np.transpose(V), U) + 0.0001*np.eye(2)\n",
    "        Jr_tr = np.trace(Jr)\n",
    "        sqrt_term = np.square(Jr_tr) + -4.*np.linalg.det(Jr)\n",
    "        J_eig_realmax = 0.5 * (Jr_tr + np.real(np.sqrt(sqrt_term)))\n",
    "        \n",
    "        T_z[m,0] = J_eig_realmax\n",
    "        T_z[m,1] = Js_eig_max\n",
    "    return T_z\n",
    "\n",
    "z = df1.to_numpy()\n",
    "T_z = T(z)\n",
    "\n",
    "plt.scatter(T_z[:,0], T_z[:,1]) "
   ]
  },
  {
   "cell_type": "code",
   "execution_count": null,
   "metadata": {},
   "outputs": [],
   "source": []
  }
 ],
 "metadata": {
  "kernelspec": {
   "display_name": "Python (epi)",
   "language": "python",
   "name": "epi"
  },
  "language_info": {
   "codemirror_mode": {
    "name": "ipython",
    "version": 3
   },
   "file_extension": ".py",
   "mimetype": "text/x-python",
   "name": "python",
   "nbconvert_exporter": "python",
   "pygments_lexer": "ipython3",
   "version": "3.6.10"
  }
 },
 "nbformat": 4,
 "nbformat_minor": 2
}
