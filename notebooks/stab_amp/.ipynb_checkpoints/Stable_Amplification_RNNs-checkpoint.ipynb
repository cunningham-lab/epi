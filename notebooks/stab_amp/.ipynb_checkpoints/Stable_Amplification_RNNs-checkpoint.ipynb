{
 "cells": [
  {
   "cell_type": "code",
   "execution_count": 1,
   "metadata": {},
   "outputs": [],
   "source": [
    "%load_ext autoreload\n",
    "%autoreload 2\n",
    "\n",
    "import matplotlib.pyplot as plt\n",
    "import numpy as np\n",
    "# Mac OS jupyter kernel dies without.\n",
    "import os\n",
    "\n",
    "from epi.models import Model, Parameter\n",
    "import numpy as np\n",
    "import matplotlib.pyplot as plt\n",
    "import tensorflow as tf\n",
    "import matplotlib\n",
    "\n",
    "os.environ['KMP_DUPLICATE_LIB_OK']='True'"
   ]
  },
  {
   "cell_type": "code",
   "execution_count": 2,
   "metadata": {},
   "outputs": [],
   "source": [
    "matplotlib.rcParams['axes.spines.right'] = False\n",
    "matplotlib.rcParams['axes.spines.top'] = False\n",
    "matplotlib.rcParams['axes.titlesize'] = 14\n",
    "matplotlib.rcParams['axes.labelsize'] = 12"
   ]
  },
  {
   "cell_type": "markdown",
   "metadata": {},
   "source": [
    "### 1. Define the model.\n"
   ]
  },
  {
   "cell_type": "code",
   "execution_count": 3,
   "metadata": {},
   "outputs": [],
   "source": [
    "N = 20\n",
    "Js_eig_max_mean = 1.5\n",
    "J_eig_realmax_mean = 0.5\n",
    "\n",
    "def stable_amplification_r2(U, V):\n",
    "    U = tf.reshape(U, (-1, N, 2))\n",
    "    V = tf.reshape(V, (-1, N, 2))\n",
    "    J = tf.matmul(U, tf.transpose(V, [0,2,1]))\n",
    "    Js = (J + tf.transpose(J, [0, 2, 1])) / 2.\n",
    "    Js_eigs = tf.linalg.eigvalsh(Js)\n",
    "    Js_eig_max = tf.reduce_max(Js_eigs, axis=1)\n",
    "    \n",
    "    # Take eig of low rank similar mat\n",
    "    Jr = tf.matmul(tf.transpose(V, [0,2,1]), U)\n",
    "    Jr_tr = tf.linalg.trace(Jr)\n",
    "    maybe_complex_term = tf.complex(tf.square(Jr_tr) + -4.*tf.linalg.det(Jr), 0.)\n",
    "    J_eig_realmax = 0.5 * (Jr_tr + tf.math.real(tf.sqrt(maybe_complex_term)))\n",
    "    \n",
    "    T_x = tf.stack([Js_eig_max, tf.square(Js_eig_max-Js_eig_max_mean),\n",
    "                    J_eig_realmax, tf.square(J_eig_realmax-J_eig_realmax_mean)], axis=1)\n",
    "    return T_x\n",
    "\n",
    "\n",
    "\n"
   ]
  },
  {
   "cell_type": "code",
   "execution_count": 4,
   "metadata": {},
   "outputs": [
    {
     "name": "stdout",
     "output_type": "stream",
     "text": [
      "     Unnamed: 0  k  iteration          H       cost  converged        R1  \\\n",
      "0             0  0          0  53.950584 -38.420345        NaN  1.739201   \n",
      "1             1  1         50  50.677100 -45.063408        NaN  1.113338   \n",
      "2             2  1        100  52.449364 -45.919518        NaN  1.095972   \n",
      "3             3  1        150  53.418224 -46.652752        NaN  1.126527   \n",
      "4             4  1        200  53.692520 -46.755870        NaN  1.103410   \n",
      "..          ... ..        ...        ...        ...        ...       ...   \n",
      "116         116  6       5800   3.586608  -3.200179        NaN  0.015801   \n",
      "117         117  6       5850   3.591521  -1.539170        NaN  0.023382   \n",
      "118         118  6       5900   3.760055  -2.882157        NaN -0.008038   \n",
      "119         119  6       5950   4.273240  -2.981496        NaN  0.018450   \n",
      "120         120  6       6000   4.128067   1.252499        1.0  0.020118   \n",
      "\n",
      "           R2        R3        R4  \\\n",
      "0    3.432880  0.133842  0.838353   \n",
      "1    1.442430 -0.189779  0.621547   \n",
      "2    1.456927 -0.439248  0.914605   \n",
      "3    1.498832 -0.474768  0.877126   \n",
      "4    1.446933 -0.535087  1.013402   \n",
      "..        ...       ...       ...   \n",
      "116  0.001409  0.008675  0.002071   \n",
      "117  0.001130  0.026083  0.008657   \n",
      "118  0.002494 -0.009989  0.007940   \n",
      "119  0.011297  0.012531  0.006317   \n",
      "120  0.008656  0.050303  0.013192   \n",
      "\n",
      "                                                  path  \\\n",
      "0    data/epi/Rank2Net/e766aba28520df2df4c841e6bf51...   \n",
      "1    data/epi/Rank2Net/e766aba28520df2df4c841e6bf51...   \n",
      "2    data/epi/Rank2Net/e766aba28520df2df4c841e6bf51...   \n",
      "3    data/epi/Rank2Net/e766aba28520df2df4c841e6bf51...   \n",
      "4    data/epi/Rank2Net/e766aba28520df2df4c841e6bf51...   \n",
      "..                                                 ...   \n",
      "116  data/epi/Rank2Net/ec029f0953b4719cc1abb6d64561...   \n",
      "117  data/epi/Rank2Net/ec029f0953b4719cc1abb6d64561...   \n",
      "118  data/epi/Rank2Net/ec029f0953b4719cc1abb6d64561...   \n",
      "119  data/epi/Rank2Net/ec029f0953b4719cc1abb6d64561...   \n",
      "120  data/epi/Rank2Net/ec029f0953b4719cc1abb6d64561...   \n",
      "\n",
      "                                                  init  \\\n",
      "0    {'mu': [0.0, 0.0, 0.0, 0.0, 0.0, 0.0, 0.0, 0.0...   \n",
      "1    {'mu': [0.0, 0.0, 0.0, 0.0, 0.0, 0.0, 0.0, 0.0...   \n",
      "2    {'mu': [0.0, 0.0, 0.0, 0.0, 0.0, 0.0, 0.0, 0.0...   \n",
      "3    {'mu': [0.0, 0.0, 0.0, 0.0, 0.0, 0.0, 0.0, 0.0...   \n",
      "4    {'mu': [0.0, 0.0, 0.0, 0.0, 0.0, 0.0, 0.0, 0.0...   \n",
      "..                                                 ...   \n",
      "116  {'mu': [0.0, 0.0, 0.0, 0.0, 0.0, 0.0, 0.0, 0.0...   \n",
      "117  {'mu': [0.0, 0.0, 0.0, 0.0, 0.0, 0.0, 0.0, 0.0...   \n",
      "118  {'mu': [0.0, 0.0, 0.0, 0.0, 0.0, 0.0, 0.0, 0.0...   \n",
      "119  {'mu': [0.0, 0.0, 0.0, 0.0, 0.0, 0.0, 0.0, 0.0...   \n",
      "120  {'mu': [0.0, 0.0, 0.0, 0.0, 0.0, 0.0, 0.0, 0.0...   \n",
      "\n",
      "                                                  arch  \\\n",
      "0    {'arch_type': 'coupling', 'D': 100, 'num_stage...   \n",
      "1    {'arch_type': 'coupling', 'D': 100, 'num_stage...   \n",
      "2    {'arch_type': 'coupling', 'D': 100, 'num_stage...   \n",
      "3    {'arch_type': 'coupling', 'D': 100, 'num_stage...   \n",
      "4    {'arch_type': 'coupling', 'D': 100, 'num_stage...   \n",
      "..                                                 ...   \n",
      "116  {'arch_type': 'coupling', 'D': 20, 'num_stages...   \n",
      "117  {'arch_type': 'coupling', 'D': 20, 'num_stages...   \n",
      "118  {'arch_type': 'coupling', 'D': 20, 'num_stages...   \n",
      "119  {'arch_type': 'coupling', 'D': 20, 'num_stages...   \n",
      "120  {'arch_type': 'coupling', 'D': 20, 'num_stages...   \n",
      "\n",
      "                                                    EP  \\\n",
      "0    {'name': 'stable_amplification_r2', 'mu': [1.5...   \n",
      "1    {'name': 'stable_amplification_r2', 'mu': [1.5...   \n",
      "2    {'name': 'stable_amplification_r2', 'mu': [1.5...   \n",
      "3    {'name': 'stable_amplification_r2', 'mu': [1.5...   \n",
      "4    {'name': 'stable_amplification_r2', 'mu': [1.5...   \n",
      "..                                                 ...   \n",
      "116  {'name': 'stable_amplification_r2', 'mu': [1.5...   \n",
      "117  {'name': 'stable_amplification_r2', 'mu': [1.5...   \n",
      "118  {'name': 'stable_amplification_r2', 'mu': [1.5...   \n",
      "119  {'name': 'stable_amplification_r2', 'mu': [1.5...   \n",
      "120  {'name': 'stable_amplification_r2', 'mu': [1.5...   \n",
      "\n",
      "                                                AL_hps  \n",
      "0    {'N': 500, 'lr': 0.001, 'c0': 3.0, 'gamma': 0....  \n",
      "1    {'N': 500, 'lr': 0.001, 'c0': 3.0, 'gamma': 0....  \n",
      "2    {'N': 500, 'lr': 0.001, 'c0': 3.0, 'gamma': 0....  \n",
      "3    {'N': 500, 'lr': 0.001, 'c0': 3.0, 'gamma': 0....  \n",
      "4    {'N': 500, 'lr': 0.001, 'c0': 3.0, 'gamma': 0....  \n",
      "..                                                 ...  \n",
      "116  {'N': 500, 'lr': 0.001, 'c0': 3.0, 'gamma': 0....  \n",
      "117  {'N': 500, 'lr': 0.001, 'c0': 3.0, 'gamma': 0....  \n",
      "118  {'N': 500, 'lr': 0.001, 'c0': 3.0, 'gamma': 0....  \n",
      "119  {'N': 500, 'lr': 0.001, 'c0': 3.0, 'gamma': 0....  \n",
      "120  {'N': 500, 'lr': 0.001, 'c0': 3.0, 'gamma': 0....  \n",
      "\n",
      "[424 rows x 15 columns]\n"
     ]
    }
   ],
   "source": [
    "name = \"Rank2Net\"\n",
    "params = []\n",
    "M = Model(name, params)\n",
    "epi_df = M.get_epi_df()\n",
    "print(epi_df)"
   ]
  },
  {
   "cell_type": "code",
   "execution_count": 53,
   "metadata": {},
   "outputs": [
    {
     "name": "stdout",
     "output_type": "stream",
     "text": [
      "(1000, 4)\n"
     ]
    },
    {
     "data": {
      "text/plain": [
       "<matplotlib.collections.PathCollection at 0x14ad4ba20>"
      ]
     },
     "execution_count": 53,
     "metadata": {},
     "output_type": "execute_result"
    },
    {
     "data": {
      "image/png": "[encoded data removed]",
      "text/plain": [
       "<Figure size 432x288 with 1 Axes>"
      ]
     },
     "metadata": {
      "needs_background": "light"
     },
     "output_type": "display_data"
    }
   ],
   "source": [
    "r = 2\n",
    "B = 1000\n",
    "N = 20\n",
    "\n",
    "U = np.random.uniform(-1., 1., (B, N*r,)).astype(np.float32)\n",
    "V = np.random.uniform(-1., 1., (B, N*r,)).astype(np.float32)\n",
    "\n",
    "T_x = stable_amplification_r2(U, V)\n",
    "print(T_x.shape)\n",
    "plt.scatter(T_x[:,0], T_x[:,2])"
   ]
  },
  {
   "cell_type": "code",
   "execution_count": 5,
   "metadata": {},
   "outputs": [],
   "source": [
    "D = N*r\n",
    "lb = -np.ones((D,))\n",
    "ub = np.ones((D,))\n",
    "U = Parameter(\"U\", D=D, lb=lb, ub=ub)\n",
    "V = Parameter(\"V\", D=D, lb=lb, ub=ub)"
   ]
  },
  {
   "cell_type": "code",
   "execution_count": 6,
   "metadata": {},
   "outputs": [],
   "source": [
    "name = \"Rank2Net\"\n",
    "params = [U, V]\n",
    "M = Model(name, params)"
   ]
  },
  {
   "cell_type": "code",
   "execution_count": 7,
   "metadata": {},
   "outputs": [],
   "source": [
    "M.set_eps(stable_amplification_r2)"
   ]
  },
  {
   "cell_type": "code",
   "execution_count": 8,
   "metadata": {},
   "outputs": [],
   "source": [
    "from epi.normalizing_flows import NormalizingFlow\n",
    "nf = NormalizingFlow(\n",
    "    arch_type='coupling',\n",
    "    D=2*D,\n",
    "    num_stages=3,\n",
    "    num_layers=2,\n",
    "    num_units=4*D,\n",
    "    batch_norm=False,\n",
    "    bn_momentum=None,\n",
    "    post_affine=False,\n",
    "    bounds=M._get_bounds(),\n",
    "    random_seed=1,\n",
    ")"
   ]
  },
  {
   "cell_type": "code",
   "execution_count": 9,
   "metadata": {},
   "outputs": [],
   "source": [
    "from epi.util import AugLagHPs\n",
    "aug_lag_hps = AugLagHPs(500, 1e-3, 1., 0.25, 10.)"
   ]
  },
  {
   "cell_type": "code",
   "execution_count": 10,
   "metadata": {},
   "outputs": [],
   "source": [
    "# Emergent property values\n",
    "mu = np.array([1.5 , 0.25**2, .5, 0.25**2])"
   ]
  },
  {
   "cell_type": "code",
   "execution_count": 12,
   "metadata": {},
   "outputs": [
    {
     "name": "stdout",
     "output_type": "stream",
     "text": [
      "Checking in data/Rank2Net_stable_amplification_r2_mu=1.50E+00_6.25E-02_5.00E-01_6.25E-02/.\n",
      "skipping data/Rank2Net_stable_amplification_r2_mu=1.50E+00_6.25E-02_5.00E-01_6.25E-02/D20_C3_L2_U40_rs1_N500_lr1.00E-03_c0=6.00E+00_gamma2.50E-01_beta1.00E+01/hps.p\n",
      "skipping data/Rank2Net_stable_amplification_r2_mu=1.50E+00_6.25E-02_5.00E-01_6.25E-02/D200_C3_L2_U400_rs1_N500_lr1.00E-03_c0=0.00E+00_gamma2.50E-01_beta4.00E+00/hps.p\n",
      "skipping data/Rank2Net_stable_amplification_r2_mu=1.50E+00_6.25E-02_5.00E-01_6.25E-02/D40_C3_L2_U80_rs1_N500_lr1.00E-03_c0=0.00E+00_gamma2.50E-01_beta4.00E+00/hps.p\n",
      "skipping data/Rank2Net_stable_amplification_r2_mu=1.50E+00_6.25E-02_5.00E-01_6.25E-02/D80_C3_L2_U160_rs1_N500_lr1.00E-03_c0=0.00E+00_gamma2.50E-01_beta4.00E+00/hps.p\n",
      "skipping data/Rank2Net_stable_amplification_r2_mu=1.50E+00_6.25E-02_5.00E-01_6.25E-02/D400_C3_L2_U800_rs1_N500_lr1.00E-03_c0=3.00E+00_gamma2.50E-01_beta1.00E+01/hps.p\n",
      "skipping data/Rank2Net_stable_amplification_r2_mu=1.50E+00_6.25E-02_5.00E-01_6.25E-02/D40_C3_L2_U80_rs1_N500_lr1.00E-03_c0=0.00E+00_gamma2.50E-01_beta1.00E+01/hps.p\n",
      "skipping data/Rank2Net_stable_amplification_r2_mu=1.50E+00_6.25E-02_5.00E-01_6.25E-02/D200_C3_L2_U400_rs1_N500_lr1.00E-03_c0=0.00E+00_gamma2.50E-01_beta1.00E+01/hps.p\n",
      "Found 15 optimizations.\n"
     ]
    }
   ],
   "source": [
    "hp_df, opt_df = M.get_epi_dfs(mu, \"\")"
   ]
  },
  {
   "cell_type": "code",
   "execution_count": 18,
   "metadata": {},
   "outputs": [
    {
     "name": "stdout",
     "output_type": "stream",
     "text": [
      "Index(['Unnamed: 0', 'k', 'iteration', 'H', 'converged', 'R1', 'R2', 'R3',\n",
      "       'R4', 'hp', 'Rnorm'],\n",
      "      dtype='object')\n"
     ]
    },
    {
     "data": {
      "text/html": [
       "<div>\n",
       "<style scoped>\n",
       "    .dataframe tbody tr th:only-of-type {\n",
       "        vertical-align: middle;\n",
       "    }\n",
       "\n",
       "    .dataframe tbody tr th {\n",
       "        vertical-align: top;\n",
       "    }\n",
       "\n",
       "    .dataframe thead th {\n",
       "        text-align: right;\n",
       "    }\n",
       "</style>\n",
       "<table border=\"1\" class=\"dataframe\">\n",
       "  <thead>\n",
       "    <tr style=\"text-align: right;\">\n",
       "      <th></th>\n",
       "      <th>Unnamed: 0</th>\n",
       "      <th>k</th>\n",
       "      <th>iteration</th>\n",
       "      <th>H</th>\n",
       "      <th>converged</th>\n",
       "      <th>R1</th>\n",
       "      <th>R2</th>\n",
       "      <th>R3</th>\n",
       "      <th>R4</th>\n",
       "      <th>hp</th>\n",
       "      <th>Rnorm</th>\n",
       "    </tr>\n",
       "  </thead>\n",
       "  <tbody>\n",
       "    <tr>\n",
       "      <th>0</th>\n",
       "      <td>0</td>\n",
       "      <td>0</td>\n",
       "      <td>0</td>\n",
       "      <td>53.950584</td>\n",
       "      <td>NaN</td>\n",
       "      <td>1.739201</td>\n",
       "      <td>3.432880</td>\n",
       "      <td>0.133842</td>\n",
       "      <td>0.838353</td>\n",
       "      <td>D100_C3_L2_U200_rs1_N500_lr1.00E-03_c0=3.00E+0...</td>\n",
       "      <td>3.940842</td>\n",
       "    </tr>\n",
       "    <tr>\n",
       "      <th>1</th>\n",
       "      <td>1</td>\n",
       "      <td>1</td>\n",
       "      <td>50</td>\n",
       "      <td>50.677100</td>\n",
       "      <td>NaN</td>\n",
       "      <td>1.113338</td>\n",
       "      <td>1.442430</td>\n",
       "      <td>-0.189779</td>\n",
       "      <td>0.621547</td>\n",
       "      <td>D100_C3_L2_U200_rs1_N500_lr1.00E-03_c0=3.00E+0...</td>\n",
       "      <td>1.934544</td>\n",
       "    </tr>\n",
       "    <tr>\n",
       "      <th>2</th>\n",
       "      <td>2</td>\n",
       "      <td>1</td>\n",
       "      <td>100</td>\n",
       "      <td>52.449364</td>\n",
       "      <td>NaN</td>\n",
       "      <td>1.095972</td>\n",
       "      <td>1.456927</td>\n",
       "      <td>-0.439248</td>\n",
       "      <td>0.914605</td>\n",
       "      <td>D100_C3_L2_U200_rs1_N500_lr1.00E-03_c0=3.00E+0...</td>\n",
       "      <td>2.086439</td>\n",
       "    </tr>\n",
       "    <tr>\n",
       "      <th>3</th>\n",
       "      <td>3</td>\n",
       "      <td>1</td>\n",
       "      <td>150</td>\n",
       "      <td>53.418224</td>\n",
       "      <td>NaN</td>\n",
       "      <td>1.126527</td>\n",
       "      <td>1.498832</td>\n",
       "      <td>-0.474768</td>\n",
       "      <td>0.877126</td>\n",
       "      <td>D100_C3_L2_U200_rs1_N500_lr1.00E-03_c0=3.00E+0...</td>\n",
       "      <td>2.123750</td>\n",
       "    </tr>\n",
       "    <tr>\n",
       "      <th>4</th>\n",
       "      <td>4</td>\n",
       "      <td>1</td>\n",
       "      <td>200</td>\n",
       "      <td>53.692520</td>\n",
       "      <td>NaN</td>\n",
       "      <td>1.103410</td>\n",
       "      <td>1.446933</td>\n",
       "      <td>-0.535087</td>\n",
       "      <td>1.013402</td>\n",
       "      <td>D100_C3_L2_U200_rs1_N500_lr1.00E-03_c0=3.00E+0...</td>\n",
       "      <td>2.150449</td>\n",
       "    </tr>\n",
       "  </tbody>\n",
       "</table>\n",
       "</div>"
      ],
      "text/plain": [
       "   Unnamed: 0  k  iteration          H  converged        R1        R2  \\\n",
       "0           0  0          0  53.950584        NaN  1.739201  3.432880   \n",
       "1           1  1         50  50.677100        NaN  1.113338  1.442430   \n",
       "2           2  1        100  52.449364        NaN  1.095972  1.456927   \n",
       "3           3  1        150  53.418224        NaN  1.126527  1.498832   \n",
       "4           4  1        200  53.692520        NaN  1.103410  1.446933   \n",
       "\n",
       "         R3        R4                                                 hp  \\\n",
       "0  0.133842  0.838353  D100_C3_L2_U200_rs1_N500_lr1.00E-03_c0=3.00E+0...   \n",
       "1 -0.189779  0.621547  D100_C3_L2_U200_rs1_N500_lr1.00E-03_c0=3.00E+0...   \n",
       "2 -0.439248  0.914605  D100_C3_L2_U200_rs1_N500_lr1.00E-03_c0=3.00E+0...   \n",
       "3 -0.474768  0.877126  D100_C3_L2_U200_rs1_N500_lr1.00E-03_c0=3.00E+0...   \n",
       "4 -0.535087  1.013402  D100_C3_L2_U200_rs1_N500_lr1.00E-03_c0=3.00E+0...   \n",
       "\n",
       "      Rnorm  \n",
       "0  3.940842  \n",
       "1  1.934544  \n",
       "2  2.086439  \n",
       "3  2.123750  \n",
       "4  2.150449  "
      ]
     },
     "execution_count": 18,
     "metadata": {},
     "output_type": "execute_result"
    }
   ],
   "source": [
    "print(opt_df.columns)\n",
    "opt_df.head()"
   ]
  },
  {
   "cell_type": "code",
   "execution_count": 24,
   "metadata": {},
   "outputs": [],
   "source": [
    "opt_df_conv = opt_df[opt_df['converged']==True]"
   ]
  },
  {
   "cell_type": "code",
   "execution_count": 43,
   "metadata": {},
   "outputs": [],
   "source": [
    "Ns = [5, 10, 25, 50]\n",
    "base_path = \"data/Rank2Net_stable_amplification_r2_mu=1.50E+00_6.25E-02_5.00E-01_6.25E-02/\"\n",
    "c0 = 3.\n",
    "\n",
    "Ds = []\n",
    "conv_iters = []\n",
    "time_per_its = []\n",
    "for N in Ns:\n",
    "    D = 2*N*r\n",
    "    Ds.append(D)\n",
    "    D_str = 'D%d_' % D\n",
    "    df = opt_df[opt_df['hp'].str.contains(D_str)].copy()\n",
    "    c0_str = 'c0=%.2f' % c0\n",
    "    df = df[df['hp'].str.contains(c0_str)]\n",
    "    if df['converged'].any():\n",
    "        conv_iters.append(df[df['converged']==True]['iteration'].to_numpy()[0])\n",
    "    else:\n",
    "        conv_iters.append(np.nan)\n",
    "        \n",
    "    save_path = df['hp'].iloc[0]\n",
    "    timing_file = base_path + save_path + \"/timing.npz\"\n",
    "    npzfile = np.load(timing_file)\n",
    "    time_per_its.append(npzfile['time_per_it'])\n",
    "\n",
    "Ds = np.array(Ds)\n",
    "conv_iters = np.array(conv_iters)\n",
    "time_per_its = np.array(time_per_its)\n",
    "conv_times = conv_iters * time_per_its\n"
   ]
  },
  {
   "cell_type": "code",
   "execution_count": 63,
   "metadata": {},
   "outputs": [
    {
     "data": {
      "image/png": "[encoded data removed]",
      "text/plain": [
       "<Figure size 432x288 with 1 Axes>"
      ]
     },
     "metadata": {
      "needs_background": "light"
     },
     "output_type": "display_data"
    }
   ],
   "source": [
    "plt.figure()\n",
    "plt.plot(Ds, conv_times/3600., '-o', lw=3, markersize=10)\n",
    "plt.xlim([0, 205])\n",
    "plt.xlabel('|z|')\n",
    "plt.ylabel('time to convergence\\n(hr)')\n",
    "plt.show()"
   ]
  },
  {
   "cell_type": "code",
   "execution_count": null,
   "metadata": {},
   "outputs": [],
   "source": []
  },
  {
   "cell_type": "code",
   "execution_count": null,
   "metadata": {},
   "outputs": [],
   "source": []
  },
  {
   "cell_type": "code",
   "execution_count": null,
   "metadata": {},
   "outputs": [],
   "source": []
  },
  {
   "cell_type": "code",
   "execution_count": 17,
   "metadata": {},
   "outputs": [],
   "source": [
    "opt_df['Rnorm'] = opt_df[['R%d' % i for i in range(1, 5)]].pow(2.).sum(axis=1).pow(0.5)"
   ]
  },
  {
   "cell_type": "code",
   "execution_count": 73,
   "metadata": {},
   "outputs": [
    {
     "data": {
      "image/png": "[encoded data removed]",
      "text/plain": [
       "<Figure size 648x288 with 2 Axes>"
      ]
     },
     "metadata": {
      "needs_background": "light"
     },
     "output_type": "display_data"
    }
   ],
   "source": [
    "Ns = [50]\n",
    "c0s = [3]\n",
    "for N in Ns:\n",
    "    D = 2*N*r\n",
    "    D_str = 'D%d_' % D\n",
    "    _opt_df = opt_df[opt_df['hp'].str.contains(D_str)].copy()\n",
    "    fig, axs = plt.subplots(1,2, figsize=(9, 4))\n",
    "    for c0 in c0s:\n",
    "        c0_str = 'c0=%.2f' % c0\n",
    "        df = _opt_df[_opt_df['hp'].str.contains(c0_str)]\n",
    "        if df.shape[0] > 0:\n",
    "            axs[0].plot(df['iteration'], df['H'], label=c0_str)\n",
    "            axs[1].plot(df['iteration'], df['Rnorm'], label=c0_str)\n",
    "    #axs[1].legend()\n",
    "    axs[0].set_xlabel('iterations')\n",
    "    axs[1].set_xlabel('iterations')\n",
    "    axs[0].set_ylabel(r'$H(\\theta)$')\n",
    "    axs[1].set_ylabel(r'$|R(\\theta)|$')\n",
    "    plt.suptitle('N=%d' % N, fontsize=18)\n",
    "    plt.show()"
   ]
  },
  {
   "cell_type": "code",
   "execution_count": 114,
   "metadata": {},
   "outputs": [
    {
     "name": "stdout",
     "output_type": "stream",
     "text": [
      "arch_type      coupling\n",
      "num_stages            3\n",
      "num_layers            2\n",
      "num_units           200\n",
      "batch_norm        False\n",
      "bn_momentum        None\n",
      "post_affine       False\n",
      "random_seed           1\n",
      "N                   500\n",
      "lr                0.001\n",
      "c0                    3\n",
      "gamma              0.25\n",
      "beta                 10\n",
      "H               29.1405\n",
      "Name: 1, dtype: object\n"
     ]
    },
    {
     "ename": "TypeError",
     "evalue": "load_epi_dist() got multiple values for argument 'k'",
     "output_type": "error",
     "traceback": [
      "\u001b[0;31m---------------------------------------------------------------------------\u001b[0m",
      "\u001b[0;31mTypeError\u001b[0m                                 Traceback (most recent call last)",
      "\u001b[0;32m<ipython-input-114-9d704b556ff5>\u001b[0m in \u001b[0;36m<module>\u001b[0;34m\u001b[0m\n\u001b[1;32m     14\u001b[0m         \u001b[0mc0\u001b[0m\u001b[0;34m=\u001b[0m\u001b[0mhp_row\u001b[0m\u001b[0;34m[\u001b[0m\u001b[0;34m'c0'\u001b[0m\u001b[0;34m]\u001b[0m\u001b[0;34m,\u001b[0m\u001b[0;34m\u001b[0m\u001b[0;34m\u001b[0m\u001b[0m\n\u001b[1;32m     15\u001b[0m         \u001b[0mgamma\u001b[0m\u001b[0;34m=\u001b[0m\u001b[0mhp_row\u001b[0m\u001b[0;34m[\u001b[0m\u001b[0;34m'gamma'\u001b[0m\u001b[0;34m]\u001b[0m\u001b[0;34m,\u001b[0m\u001b[0;34m\u001b[0m\u001b[0;34m\u001b[0m\u001b[0m\n\u001b[0;32m---> 16\u001b[0;31m         \u001b[0mbeta\u001b[0m\u001b[0;34m=\u001b[0m\u001b[0mhp_row\u001b[0m\u001b[0;34m[\u001b[0m\u001b[0;34m'beta'\u001b[0m\u001b[0;34m]\u001b[0m\u001b[0;34m,\u001b[0m\u001b[0;34m\u001b[0m\u001b[0;34m\u001b[0m\u001b[0m\n\u001b[0m\u001b[1;32m     17\u001b[0m     )\n\u001b[1;32m     18\u001b[0m     \u001b[0;32mbreak\u001b[0m\u001b[0;34m\u001b[0m\u001b[0;34m\u001b[0m\u001b[0m\n",
      "\u001b[0;31mTypeError\u001b[0m: load_epi_dist() got multiple values for argument 'k'"
     ]
    }
   ],
   "source": [
    "for i, hp_row in hp_df.iterrows():\n",
    "    print(hp_row)\n",
    "    dist = M.load_epi_dist(\n",
    "        mu,\n",
    "        k=1,\n",
    "        arch_type=hp_row['arch_type'],\n",
    "        num_stages=hp_row['num_stages'],\n",
    "        num_layers=hp_row['num_layers'],\n",
    "        num_units=hp_row['num_units'],\n",
    "        batch_norm=hp_row['batch_norm'],\n",
    "        post_affine=hp_row['post_affine'],\n",
    "        N=hp_row['N'],\n",
    "        lr=hp_row['lr'],\n",
    "        c0=hp_row['c0'],\n",
    "        gamma=hp_row['gamma'],\n",
    "        beta=hp_row['beta'],\n",
    "    )\n",
    "    break"
   ]
  },
  {
   "cell_type": "code",
   "execution_count": null,
   "metadata": {
    "collapsed": true
   },
   "outputs": [],
   "source": []
  }
 ],
 "metadata": {
  "kernelspec": {
   "display_name": "Python (epi)",
   "language": "python",
   "name": "epi"
  },
  "language_info": {
   "codemirror_mode": {
    "name": "ipython",
    "version": 3
   },
   "file_extension": ".py",
   "mimetype": "text/x-python",
   "name": "python",
   "nbconvert_exporter": "python",
   "pygments_lexer": "ipython3",
   "version": "3.6.10"
  }
 },
 "nbformat": 4,
 "nbformat_minor": 2
}
