{
 "cells": [
  {
   "cell_type": "code",
   "execution_count": 1,
   "metadata": {},
   "outputs": [],
   "source": [
    "import pyabc\n",
    "\n",
    "import numpy as np\n",
    "import scipy.stats as st\n",
    "import tempfile\n",
    "import os\n",
    "import pandas as pd\n",
    "import matplotlib.pyplot as plt\n",
    "%matplotlib inline"
   ]
  },
  {
   "cell_type": "code",
   "execution_count": 2,
   "metadata": {},
   "outputs": [],
   "source": [
    "N = 2\n",
    "\n",
    "def model(parameter):\n",
    "    u1 = np.array([parameter[\"U%d1\" % i] for i in range(1, N+1)])\n",
    "    u2 = np.array([parameter[\"U%d2\" % i] for i in range(1, N+1)])\n",
    "    v1 = np.array([parameter[\"V%d1\" % i] for i in range(1, N+1)])\n",
    "    v2 = np.array([parameter[\"V%d2\" % i] for i in range(1, N+1)])\n",
    "\n",
    "    U = np.stack((u1, u2), axis=1)\n",
    "    V = np.stack((v1, v2), axis=1)\n",
    "\n",
    "    J = np.matmul(U, np.transpose(V))\n",
    "    Js = (J + np.transpose(J)) / 2.\n",
    "    Js_eigs = np.linalg.eigvalsh(Js)\n",
    "    Js_eig_max = np.max(Js_eigs, axis=0)\n",
    "\n",
    "    # Take eig of low rank similar mat\n",
    "    Jr = np.matmul(np.transpose(V), U) + 0.0001*np.eye(2)\n",
    "    Jr_tr = np.trace(Jr)\n",
    "    sqrt_term = np.square(Jr_tr) + -4.*np.linalg.det(Jr)\n",
    "    if sqrt_term < 0.:\n",
    "        sqrt_term = 0.\n",
    "    J_eig_realmax = 0.5 * (Jr_tr + np.sqrt(sqrt_term))\n",
    "    \n",
    "    return {\"data\": np.array([J_eig_realmax, Js_eig_max])}"
   ]
  },
  {
   "cell_type": "code",
   "execution_count": 3,
   "metadata": {},
   "outputs": [],
   "source": [
    "parameters = [(\"U%d1\" % i,  pyabc.RV(\"uniform\", -1., 1.)) for i in range(1, N+1)]\n",
    "parameters += [(\"U%d2\" % i, pyabc.RV(\"uniform\", -1., 1.)) for i in range(1, N+1)]\n",
    "parameters += [(\"V%d1\" % i, pyabc.RV(\"uniform\", -1., 1.)) for i in range(1, N+1)]\n",
    "parameters += [(\"V%d2\" % i, pyabc.RV(\"uniform\", -1., 1.)) for i in range(1, N+1)]\n",
    "parameters = dict(parameters)"
   ]
  },
  {
   "cell_type": "code",
   "execution_count": 4,
   "metadata": {},
   "outputs": [],
   "source": [
    "prior = pyabc.Distribution(parameters)"
   ]
  },
  {
   "cell_type": "code",
   "execution_count": 5,
   "metadata": {},
   "outputs": [],
   "source": [
    "def distance(x, y):\n",
    "    return np.linalg.norm(x[\"data\"] - y[\"data\"])"
   ]
  },
  {
   "cell_type": "code",
   "execution_count": 6,
   "metadata": {},
   "outputs": [],
   "source": [
    "sampler = pyabc.sampler.SingleCoreSampler()\n",
    "abc = pyabc.ABCSMC(model, prior, distance, sampler=sampler)"
   ]
  },
  {
   "cell_type": "code",
   "execution_count": 7,
   "metadata": {},
   "outputs": [
    {
     "name": "stderr",
     "output_type": "stream",
     "text": [
      "INFO:History:Start <ABCSMC(id=3, start_time=2020-09-23 18:17:09.476900, end_time=None)>\n"
     ]
    },
    {
     "data": {
      "text/plain": [
       "<pyabc.storage.history.History at 0x7f9c3e182eb8>"
      ]
     },
     "execution_count": 7,
     "metadata": {},
     "output_type": "execute_result"
    }
   ],
   "source": [
    "db_path = (\"sqlite:///\" +\n",
    "           os.path.join(tempfile.gettempdir(), \"test.db\"))\n",
    "observation = np.array([0.5, 1.5])\n",
    "abc.new(db_path, {\"data\": observation})"
   ]
  },
  {
   "cell_type": "code",
   "execution_count": 8,
   "metadata": {},
   "outputs": [
    {
     "name": "stderr",
     "output_type": "stream",
     "text": [
      "INFO:ABC:Calibration sample before t=0.\n",
      "INFO:Epsilon:initial epsilon is 0.8180341246887238\n",
      "INFO:ABC:t: 0, eps: 0.8180341246887238.\n",
      "INFO:ABC:Acceptance rate: 100 / 184 = 5.4348e-01, ESS=1.0000e+02.\n",
      "INFO:ABC:t: 1, eps: 0.7168477923370031.\n",
      "INFO:ABC:Acceptance rate: 100 / 211 = 4.7393e-01, ESS=1.4706e+01.\n",
      "INFO:ABC:t: 2, eps: 0.6774838738185741.\n",
      "INFO:ABC:Acceptance rate: 100 / 385 = 2.5974e-01, ESS=2.0389e+01.\n",
      "INFO:ABC:Stopping: minimum epsilon.\n",
      "INFO:History:Done <ABCSMC(id=3, start_time=2020-09-23 18:17:09.476900, end_time=2020-09-23 18:17:13.999422)>\n"
     ]
    }
   ],
   "source": [
    "history = abc.run(minimum_epsilon=1./np.sqrt(2.), max_nr_populations=10)"
   ]
  },
  {
   "cell_type": "code",
   "execution_count": 9,
   "metadata": {},
   "outputs": [],
   "source": [
    "df1, w = history.get_distribution(m=0,t=history.max_t)"
   ]
  },
  {
   "cell_type": "code",
   "execution_count": 11,
   "metadata": {},
   "outputs": [
    {
     "name": "stdout",
     "output_type": "stream",
     "text": [
      "880\n"
     ]
    }
   ],
   "source": [
    "print(history.total_nr_simulations)"
   ]
  },
  {
   "cell_type": "code",
   "execution_count": 11,
   "metadata": {},
   "outputs": [
    {
     "data": {
      "text/plain": [
       "<matplotlib.collections.PathCollection at 0x1303e46a0>"
      ]
     },
     "execution_count": 11,
     "metadata": {},
     "output_type": "execute_result"
    },
    {
     "data": {
      "image/png": "[encoded data removed]",
      "text/plain": [
       "<Figure size 432x288 with 1 Axes>"
      ]
     },
     "metadata": {
      "needs_background": "light"
     },
     "output_type": "display_data"
    }
   ],
   "source": [
    "def T(z):\n",
    "    M = z.shape[0]\n",
    "    T_z = np.zeros((M,2))\n",
    "    for m in range(M):\n",
    "   \n",
    "        u1 = z[m,:N]\n",
    "        u2 = z[m,N:(2*N)]\n",
    "        v1 = z[m,(2*N):(3*N)]\n",
    "        v2 = z[m,(3*N):]\n",
    "        \n",
    "        U = np.stack((u1, u2), axis=1)\n",
    "        V = np.stack((v1, v2), axis=1)\n",
    "\n",
    "        J = np.matmul(U, np.transpose(V))\n",
    "        Js = (J + np.transpose(J)) / 2.\n",
    "        Js_eigs = np.linalg.eigvalsh(Js)\n",
    "        Js_eig_max = np.max(Js_eigs, axis=0)\n",
    "\n",
    "        # Take eig of low rank similar mat\n",
    "        Jr = np.matmul(np.transpose(V), U) + 0.0001*np.eye(2)\n",
    "        Jr_tr = np.trace(Jr)\n",
    "        sqrt_term = np.square(Jr_tr) + -4.*np.linalg.det(Jr)\n",
    "        J_eig_realmax = 0.5 * (Jr_tr + np.real(np.sqrt(sqrt_term)))\n",
    "        \n",
    "        T_z[m,0] = J_eig_realmax\n",
    "        T_z[m,1] = Js_eig_max\n",
    "    return T_z\n",
    "\n",
    "z = df1.to_numpy()\n",
    "T_z = T(z)\n",
    "\n",
    "plt.scatter(T_z[:,0], T_z[:,1]) "
   ]
  },
  {
   "cell_type": "code",
   "execution_count": 14,
   "metadata": {},
   "outputs": [
    {
     "name": "stdout",
     "output_type": "stream",
     "text": [
      "   t        population_end_time  samples   epsilon  particles\n",
      "0 -1 2020-09-15 15:35:11.664391      100       inf          1\n",
      "1  0 2020-09-15 15:35:13.610751      223  2.090970        100\n",
      "2  1 2020-09-15 15:35:38.977023      228  1.608617        100\n",
      "3  2 2020-09-15 15:35:42.817128      244  1.085987        100\n",
      "4  3 2020-09-15 15:35:44.426929      178  0.974170        100\n",
      "5  4 2020-09-15 15:35:45.774953      119  0.959852        100\n",
      "6  5 2020-09-15 15:35:49.300249      508  0.698931        100\n",
      "5\n"
     ]
    }
   ],
   "source": [
    "print(history.get_all_populations())\n",
    "print(history.max_t)\n",
    "print(history.max_)"
   ]
  },
  {
   "cell_type": "code",
   "execution_count": 17,
   "metadata": {},
   "outputs": [],
   "source": [
    "import pickle\n",
    "with open(\"temp.pkl\", \"wb\") as f:\n",
    "    pickle.dump({\"x\":history}, f)"
   ]
  },
  {
   "cell_type": "code",
   "execution_count": 19,
   "metadata": {},
   "outputs": [
    {
     "data": {
      "text/html": [
       "<div>\n",
       "<style scoped>\n",
       "    .dataframe tbody tr th:only-of-type {\n",
       "        vertical-align: middle;\n",
       "    }\n",
       "\n",
       "    .dataframe tbody tr th {\n",
       "        vertical-align: top;\n",
       "    }\n",
       "\n",
       "    .dataframe thead th {\n",
       "        text-align: right;\n",
       "    }\n",
       "</style>\n",
       "<table border=\"1\" class=\"dataframe\">\n",
       "  <thead>\n",
       "    <tr style=\"text-align: right;\">\n",
       "      <th></th>\n",
       "      <th>t</th>\n",
       "      <th>population_end_time</th>\n",
       "      <th>samples</th>\n",
       "      <th>epsilon</th>\n",
       "      <th>particles</th>\n",
       "    </tr>\n",
       "  </thead>\n",
       "  <tbody>\n",
       "    <tr>\n",
       "      <th>0</th>\n",
       "      <td>-1</td>\n",
       "      <td>2020-09-15 15:35:11.664391</td>\n",
       "      <td>100</td>\n",
       "      <td>inf</td>\n",
       "      <td>1</td>\n",
       "    </tr>\n",
       "    <tr>\n",
       "      <th>1</th>\n",
       "      <td>0</td>\n",
       "      <td>2020-09-15 15:35:13.610751</td>\n",
       "      <td>223</td>\n",
       "      <td>2.090970</td>\n",
       "      <td>100</td>\n",
       "    </tr>\n",
       "    <tr>\n",
       "      <th>2</th>\n",
       "      <td>1</td>\n",
       "      <td>2020-09-15 15:35:38.977023</td>\n",
       "      <td>228</td>\n",
       "      <td>1.608617</td>\n",
       "      <td>100</td>\n",
       "    </tr>\n",
       "    <tr>\n",
       "      <th>3</th>\n",
       "      <td>2</td>\n",
       "      <td>2020-09-15 15:35:42.817128</td>\n",
       "      <td>244</td>\n",
       "      <td>1.085987</td>\n",
       "      <td>100</td>\n",
       "    </tr>\n",
       "    <tr>\n",
       "      <th>4</th>\n",
       "      <td>3</td>\n",
       "      <td>2020-09-15 15:35:44.426929</td>\n",
       "      <td>178</td>\n",
       "      <td>0.974170</td>\n",
       "      <td>100</td>\n",
       "    </tr>\n",
       "    <tr>\n",
       "      <th>5</th>\n",
       "      <td>4</td>\n",
       "      <td>2020-09-15 15:35:45.774953</td>\n",
       "      <td>119</td>\n",
       "      <td>0.959852</td>\n",
       "      <td>100</td>\n",
       "    </tr>\n",
       "    <tr>\n",
       "      <th>6</th>\n",
       "      <td>5</td>\n",
       "      <td>2020-09-15 15:35:49.300249</td>\n",
       "      <td>508</td>\n",
       "      <td>0.698931</td>\n",
       "      <td>100</td>\n",
       "    </tr>\n",
       "  </tbody>\n",
       "</table>\n",
       "</div>"
      ],
      "text/plain": [
       "   t        population_end_time  samples   epsilon  particles\n",
       "0 -1 2020-09-15 15:35:11.664391      100       inf          1\n",
       "1  0 2020-09-15 15:35:13.610751      223  2.090970        100\n",
       "2  1 2020-09-15 15:35:38.977023      228  1.608617        100\n",
       "3  2 2020-09-15 15:35:42.817128      244  1.085987        100\n",
       "4  3 2020-09-15 15:35:44.426929      178  0.974170        100\n",
       "5  4 2020-09-15 15:35:45.774953      119  0.959852        100\n",
       "6  5 2020-09-15 15:35:49.300249      508  0.698931        100"
      ]
     },
     "execution_count": 19,
     "metadata": {},
     "output_type": "execute_result"
    }
   ],
   "source": [
    "with open(\"temp.pkl\", \"rb\") as f:\n",
    "    d = pickle.load(f)\n",
    "    \n",
    "h = d['x']\n",
    "h.get_all_populations()"
   ]
  },
  {
   "cell_type": "code",
   "execution_count": null,
   "metadata": {},
   "outputs": [],
   "source": []
  }
 ],
 "metadata": {
  "kernelspec": {
   "display_name": "Python (epi)",
   "language": "python",
   "name": "epi"
  },
  "language_info": {
   "codemirror_mode": {
    "name": "ipython",
    "version": 3
   },
   "file_extension": ".py",
   "mimetype": "text/x-python",
   "name": "python",
   "nbconvert_exporter": "python",
   "pygments_lexer": "ipython3",
   "version": "3.6.10"
  }
 },
 "nbformat": 4,
 "nbformat_minor": 2
}
